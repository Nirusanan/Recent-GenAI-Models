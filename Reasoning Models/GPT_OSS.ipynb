{
  "nbformat": 4,
  "nbformat_minor": 0,
  "metadata": {
    "colab": {
      "provenance": [],
      "gpuType": "T4"
    },
    "kernelspec": {
      "name": "python3",
      "display_name": "Python 3"
    },
    "language_info": {
      "name": "python"
    },
    "accelerator": "GPU"
  },
  "cells": [
    {
      "cell_type": "code",
      "execution_count": null,
      "metadata": {
        "colab": {
          "base_uri": "https://localhost:8080/"
        },
        "id": "OZnghyPG1fVh",
        "outputId": "b60227ee-740f-43fa-d063-f4837583b688"
      },
      "outputs": [
        {
          "output_type": "stream",
          "name": "stdout",
          "text": [
            "\u001b[2K   \u001b[90m━━━━━━━━━━━━━━━━━━━━━━━━━━━━━━━━━━━━━━━━\u001b[0m \u001b[32m19.4/19.4 MB\u001b[0m \u001b[31m27.0 MB/s\u001b[0m eta \u001b[36m0:00:00\u001b[0m\n",
            "\u001b[?25h"
          ]
        }
      ],
      "source": [
        "!pip install -qU uv"
      ]
    },
    {
      "cell_type": "code",
      "source": [
        "import numpy\n",
        "numpy.__version__"
      ],
      "metadata": {
        "colab": {
          "base_uri": "https://localhost:8080/",
          "height": 36
        },
        "id": "NuZ22q431veM",
        "outputId": "9f9920b1-4289-4c45-f2f3-2eb58d2c3737"
      },
      "execution_count": null,
      "outputs": [
        {
          "output_type": "execute_result",
          "data": {
            "text/plain": [
              "'2.0.2'"
            ],
            "application/vnd.google.colaboratory.intrinsic+json": {
              "type": "string"
            }
          },
          "metadata": {},
          "execution_count": 2
        }
      ]
    },
    {
      "cell_type": "code",
      "source": [
        "!uv pip install -q \\\n",
        "    \"torch>=2.8.0\" \"triton>=3.4.0\" numpy \\\n",
        "    \"unsloth_zoo[base] @ git+https://github.com/unslothai/unsloth-zoo\" \\\n",
        "    \"unsloth[base] @ git+https://github.com/unslothai/unsloth\" \\\n",
        "    torchvision bitsandbytes \\\n",
        "    git+https://github.com/huggingface/transformers \\\n",
        "    git+https://github.com/triton-lang/triton.git@05b2c186c1b6c9a08375389d5efe9cb4c401c075#subdirectory=python/triton_kernels"
      ],
      "metadata": {
        "id": "Xz9uJjBA2BmE"
      },
      "execution_count": null,
      "outputs": []
    },
    {
      "cell_type": "code",
      "source": [
        "from unsloth import FastLanguageModel\n",
        "import torch\n",
        "\n",
        "fourbit_models = [\n",
        "    \"unsloth/gpt-oss-20b-unsloth-bnb-4bit\", # 20B model using bitsandbytes 4bit quantization\n",
        "    \"unsloth/gpt-oss-120b-unsloth-bnb-4bit\",\n",
        "    \"unsloth/gpt-oss-20b\", # 20B model using MXFP4 format, OpenAI's MXFP4 Triton kernels combined with Unsloth's kernels!\n",
        "    \"unsloth/gpt-oss-120b\",\n",
        "]\n",
        "\n",
        "model, tokenizer = FastLanguageModel.from_pretrained(\n",
        "    model_name = \"unsloth/gpt-oss-20b-unsloth-bnb-4bit\",\n",
        "    dtype = None, # None for auto detection\n",
        "    max_seq_length = 4096,\n",
        "    load_in_4bit = False,\n",
        "    full_finetuning = False,\n",
        ")"
      ],
      "metadata": {
        "id": "b2ycNFLv2Mjf"
      },
      "execution_count": null,
      "outputs": []
    },
    {
      "cell_type": "markdown",
      "source": [
        "### Reasoning Effort\n",
        "The `gpt-oss` models from OpenAI include a feature that allows users to adjust the model's \"reasoning effort.\" This gives you control over the trade-off between the model's performance and its response speed (latency) which by the amount of token the model will use to think.\n",
        "\n",
        "----\n",
        "\n",
        "The `gpt-oss` models offer three distinct levels of reasoning effort you can choose from:\n",
        "\n",
        "* **Low**: Optimized for tasks that need very fast responses and don't require complex, multi-step reasoning.\n",
        "* **Medium**: A balance between performance and speed.\n",
        "* **High**: Provides the strongest reasoning performance for tasks that require it, though this results in higher latency."
      ],
      "metadata": {
        "id": "OA3P91D-3iKl"
      }
    },
    {
      "cell_type": "code",
      "source": [
        "from transformers import TextStreamer\n",
        "\n",
        "messages = [\n",
        "    {\"role\": \"user\", \"content\": \"Solve x^5 + 3x^4 - 10 = 3.\"},\n",
        "]\n",
        "inputs = tokenizer.apply_chat_template(\n",
        "    messages,\n",
        "    add_generation_prompt = True,\n",
        "    return_tensors = \"pt\",\n",
        "    return_dict = True,\n",
        "    reasoning_effort = \"low\",\n",
        ").to(model.device)\n",
        "\n",
        "_ = model.generate(**inputs, max_new_tokens = 512, streamer = TextStreamer(tokenizer))"
      ],
      "metadata": {
        "colab": {
          "base_uri": "https://localhost:8080/"
        },
        "id": "Xhnm_SPH2Mg5",
        "outputId": "8937adaf-f483-49a3-cce4-008d3aa458f5"
      },
      "execution_count": null,
      "outputs": [
        {
          "output_type": "stream",
          "name": "stdout",
          "text": [
            "<|start|>system<|message|>You are ChatGPT, a large language model trained by OpenAI.\n",
            "Knowledge cutoff: 2024-06\n",
            "Current date: 2025-08-19\n",
            "\n",
            "Reasoning: low\n",
            "\n",
            "# Valid channels: analysis, commentary, final. Channel must be included for every message.<|end|><|start|>user<|message|>Solve x^5 + 3x^4 - 10 = 3.<|end|><|start|>assistant<|channel|>analysis<|message|>Equation: x^5 +3x^4 -10 =3 => x^5 +3x^4 -13 =0. Need solve. Likely numeric. Maybe integer root? try x=1:1+3-13=-9. x=2:32+48-13=67. So root between1 and2. Try x=1.2: (1.2^5=2.48832)+(3*1.2^4=3*2.0736=6.2208)-13= -4.29088. x=1.4: 1.4^5=5.37824 +3*1.4^4=3*3.8416=11.5248 sum=16.90304-13=3.90304. So between1.2 and1.4. Try1.3:1.3^5=3.71293+3*1.3^4=3*2.8561=8.5683 sum=12.28123-13=-0.71877. try1.33:1.33^5=4.099+3*1.33^4(1.33^4=3.141)=9.423 sum=13.522-13=0.522. try1.32:1.32^5=3.912+3*1.32^4(1.32^4=2.988)=8.964 sum=12.876-13=-0.124. try1.323: approximate root ~1.323. So answer. No other real roots? check negative large: x=-... function negative large? x=-2: -32+48-13=3. So root between -2 and -1? try -1: -1+3-13=-11. So root between -2 and -1. try -1.5: -7.59375+15.1875-13=-5.40625. try -1.8: -18.895+53.184-13=21.289. So between -1.7: -14.198+29.449-13=2.251. -1.73: -16.17+31.4-13=2.23. -1.65: -13.6+23.34-13=-3.26. So root ~\n"
          ]
        }
      ]
    },
    {
      "cell_type": "code",
      "source": [
        "from transformers import TextStreamer\n",
        "\n",
        "messages = [\n",
        "    {\"role\": \"user\", \"content\": \"Solve x^5 + 3x^4 - 10 = 3.\"},\n",
        "]\n",
        "inputs = tokenizer.apply_chat_template(\n",
        "    messages,\n",
        "    add_generation_prompt = True,\n",
        "    return_tensors = \"pt\",\n",
        "    return_dict = True,\n",
        "    reasoning_effort = \"medium\",\n",
        ").to(model.device)\n",
        "\n",
        "_ = model.generate(**inputs, max_new_tokens = 1024, streamer = TextStreamer(tokenizer))"
      ],
      "metadata": {
        "colab": {
          "base_uri": "https://localhost:8080/"
        },
        "id": "vnEomUQn4Xsp",
        "outputId": "6ce87f49-cd84-4c45-844e-5c82979a5bdf"
      },
      "execution_count": null,
      "outputs": [
        {
          "output_type": "stream",
          "name": "stdout",
          "text": [
            "<|start|>system<|message|>You are ChatGPT, a large language model trained by OpenAI.\n",
            "Knowledge cutoff: 2024-06\n",
            "Current date: 2025-08-19\n",
            "\n",
            "Reasoning: medium\n",
            "\n",
            "# Valid channels: analysis, commentary, final. Channel must be included for every message.<|end|><|start|>user<|message|>Solve x^5 + 3x^4 - 10 = 3.<|end|><|start|>assistant<|channel|>analysis<|message|>The prompt: \"Solve x^5 + 3x^4 - 10 = 3.\" So the equation: x^5 + 3x^4 - 10 = 3. That simplifies to x^5 + 3x^4 - 13 = 0. We need to find roots. It's a quintic polynomial: x^5 + 3x^4 - 13 = 0. Can we find rational roots? Potential rational roots: ±1, ±13. Try substituting x=1: 1+3-13=-9. x=-1: -1+3-13=-11. x=13: huge 13^5 +... huge positive minus 13. x = -13: huge negative minus 13. So no integer root. Maybe rational like ±13, ±1, ±13, ±... nothing else. Maybe root is something like 1? No. Might have one real root and others complex. Use numeric methods. Let's find approximate real root. Let f(x)=x^5+3x^4-13. The dominant term for large negative x: x^5 term dominates. f(-2)= (-32)+3*16-13 = -32+48-13=3. f(-3)= -243 +3*81 -13 = -243+243-13 = -13. So there's a root between -3 and -2. f(-2.5)=(-97.656)+3*39.06-13 = -97.656+117.187-13=6.531. f(-2.7)=(-143.489)+3*53.084-13 = -143.489+159.252-13=2.763. f(-2.8)=(-172.103)+3*61.337-13 = -172.103+184.011-13=-1.092? Wait 3*61.337=184.011: sum is 11.908? Let's compute accurately: f(-2.8) = (-2.8)^5 + 3*(-2.8)^4 - 13. -2.8^5: -(-2.8^5?) Actually (-2.8)^5 = -(-2.8)^5? Let's compute (-2.8)^5 = - (2.8^5) = - (2.8^4 *2.8) = -(61.337 * 2.8) = -171.687. Approx. Next, (-2.8)^4 = 61.337. times 3 = 184.011. So sum: -171.687+184.011-13 = -0.676? Actually -171.687+184.011=12.324, minus 13 = -0.676. Good. f(-2.75) = (-2.75)^5 +3*(-2.75)^4 -13. (-2.75)^5: 2.75^5= 2.75^4*2.75. 2.75^2=7.5625, ^4=(7.5625)^2 = 57.191, *2.75=157.270. negative: -157.270. (-2.75)^4=57.191*(something)? Wait compute: 2.75^4 = (2.75^2)^2 = 7.5625^2 = 57.191. times 3 = 171.573. Sum: -157.270+171.573-13 = 1.303? Actually -157.270 + 171.573 = 14.303, minus 13 = 1.303. So f(-2.75)=1.303. f(-2.78): Let's approximate. 2.78^2=7.7284, ^4=7.7284^2=59.739, ^5=59.739*2.78=166.147. negative: -166.147. *3 for 2.78^4 => 3*59.739=179.217. Sum: -166.147+179.217-13 = 0.070. So f(-2.28? Actually -? Wait we used -2.78 gave 0.07. f(-2.79): 2.79^2=7.7841, ^4=7.7841^2=60.577, ^5=60.577*2.79=169.006. -169.006 + 3*60.577=181.731 -13 = -0.275. So root between -2.78 and -2.79 where f crosses zero. But earlier f(-2.75) positive 1.303, f(-2.78)\n"
          ]
        }
      ]
    },
    {
      "cell_type": "code",
      "source": [
        "from transformers import TextStreamer\n",
        "\n",
        "messages = [\n",
        "    {\"role\": \"user\", \"content\": \"How many 'ss' in sstrawberiess\"},\n",
        "]\n",
        "inputs = tokenizer.apply_chat_template(\n",
        "    messages,\n",
        "    add_generation_prompt = True,\n",
        "    return_tensors = \"pt\",\n",
        "    return_dict = True,\n",
        "    reasoning_effort = \"low\",\n",
        ").to(model.device)\n",
        "\n",
        "_ = model.generate(**inputs, max_new_tokens = 512, streamer = TextStreamer(tokenizer))"
      ],
      "metadata": {
        "colab": {
          "base_uri": "https://localhost:8080/"
        },
        "id": "DFcTsNTU5A0X",
        "outputId": "e5c2e376-06fd-4042-d50e-743f94099cee"
      },
      "execution_count": null,
      "outputs": [
        {
          "output_type": "stream",
          "name": "stdout",
          "text": [
            "<|start|>system<|message|>You are ChatGPT, a large language model trained by OpenAI.\n",
            "Knowledge cutoff: 2024-06\n",
            "Current date: 2025-08-19\n",
            "\n",
            "Reasoning: low\n",
            "\n",
            "# Valid channels: analysis, commentary, final. Channel must be included for every message.<|end|><|start|>user<|message|>How many 'ss' in sstrawberiess<|end|><|start|>assistant<|start|>system<|message|>You are ChatGPT, a large language model trained by OpenAI.\n",
            "Knowledge cutoff: 2024-06\n",
            "Current date: 2025-08-19\n",
            "\n",
            "Reasoning: low\n",
            "\n",
            "# Valid channels: analysis, commentary, final. Channel must be included for every message.<|end|><|start|>user<|message|>How many 'ss' in sstrawberiess<|end|><|start|>assistant<|channel|>analysis<|message|>Count 'ss' substrings. The string: s s t r a w b e r i e s s. Let's list: indices 0-1 'ss' at start. Also at end indices last two: 'ss'. Any in middle? No. So 2.<|end|><|start|>assistant<|channel|>final<|message|>There are **two** occurrences of the substring “ss” in “sstrawberiess”: one at the very beginning and one at the very end.<|return|>\n"
          ]
        }
      ]
    },
    {
      "cell_type": "code",
      "source": [
        "from transformers import TextStreamer\n",
        "\n",
        "messages = [\n",
        "    {\"role\": \"user\", \"content\": \"Priya has 3 brothers and all brothers have two sisters each, how many sisters does Priya have?\"},\n",
        "]\n",
        "inputs = tokenizer.apply_chat_template(\n",
        "    messages,\n",
        "    add_generation_prompt = True,\n",
        "    return_tensors = \"pt\",\n",
        "    return_dict = True,\n",
        "    reasoning_effort = \"high\",\n",
        ").to(model.device)\n",
        "\n",
        "_ = model.generate(**inputs, max_new_tokens = 512, streamer = TextStreamer(tokenizer))"
      ],
      "metadata": {
        "colab": {
          "base_uri": "https://localhost:8080/"
        },
        "id": "GLB-oOv9-0wU",
        "outputId": "a4d206cb-e33e-44a3-b01b-b34ec0b0d895"
      },
      "execution_count": null,
      "outputs": [
        {
          "output_type": "stream",
          "name": "stdout",
          "text": [
            "<|start|>system<|message|>You are ChatGPT, a large language model trained by OpenAI.\n",
            "Knowledge cutoff: 2024-06\n",
            "Current date: 2025-08-19\n",
            "\n",
            "Reasoning: high\n",
            "\n",
            "# Valid channels: analysis, commentary, final. Channel must be included for every message.<|end|><|start|>user<|message|>Priya has 3 brothers and all brothers have two sisters each, how many sisters does Priya have?<|end|><|start|>assistant<|channel|>analysis<|message|>We need to analyze: question: \"Priya has 3 brothers and ... all brothers have two sisters each, how many sisters does Priya have?\" We need to find number of sisters in this family. Let's think: There is Priya (female). She has 3 siblings who are brothers. Each brother has two sisters. Priya presumably is one of the sisters for each brother? Let's parse: \"Priya has 3 brothers and all brothers have two sisters each.\" Typically this puzzle implies that the brothers each have 2 sisters total, which includes Priya and maybe another sister. We need to find number of sisters that Priya has. That means how many sisters does Priya have? If the brothers have two sisters each, then each brother has two sisters. In this family, the siblings include Priya, her brothers, and possibly other sisters. For each brother, there are exactly two sisters, meaning the number of sisters total is 2. However, if there are other sisters beyond Priya, they'd also be sisters to the brothers. Let's carefully count: Let S = number of sisters of the family. We know Priya is one of those sisters. Brothers: 3. Brothers each have two sisters; so the total number of sisters is 2. But we might need to consider that for each brother, they all share the same sisters if they are siblings. Therefore, the family has 3 brothers and 2 sisters. The question: \"Priya has 3 brothers and all brothers have two sisters each, how many sisters does Priya have?\" If she is a sister, obviously she has 1 sister? Wait what is the phrasing: \"Priya has 3 brothers and all brothers have two sisters each, how many sisters does Priya have?\" So what does \"Priya has 3 brothers\"? That means Priya's siblings include 3 brothers. She might have also other siblings (i.e., sisters). We are asked: how many sisters does Priya have?\n",
            "\n",
            "Given that all brothers have two sisters each. So there are two sister siblings for each brother, but if there's only two sisters in the family, they'll share them. So number of sisters in the family is 2. If Priya is one of those sisters, then she has 1 sister left in addition to herself. But wait: Are the two sisters the only sisters? If both brothers have exactly 2 sisters, those two sisters belong to the group as siblings, maybe same two sisters.\n"
          ]
        }
      ]
    },
    {
      "cell_type": "code",
      "source": [
        "from transformers import TextStreamer\n",
        "\n",
        "messages = [\n",
        "    {\"role\": \"user\", \"content\": \"Trinamool Congress leader Mahua Moitra has moved the Supreme Court against her expulsion from the Lok Sabha over the cash-for-query allegations against her. Moitra was ousted from the Parliament last week after the Ethics Committee of the Lok Sabha found her guilty of jeopardising national security by sharing her parliamentary portal's login credentials with businessman Darshan Hiranandani. ### You are an NER engine. Please reply in json with all the entities and relevant names.\"},\n",
        "]\n",
        "inputs = tokenizer.apply_chat_template(\n",
        "    messages,\n",
        "    add_generation_prompt = True,\n",
        "    return_tensors = \"pt\",\n",
        "    return_dict = True,\n",
        "    reasoning_effort = \"high\",\n",
        ").to(model.device)\n",
        "\n",
        "_ = model.generate(**inputs, max_new_tokens = 1024, streamer = TextStreamer(tokenizer))"
      ],
      "metadata": {
        "colab": {
          "base_uri": "https://localhost:8080/"
        },
        "id": "XKHPm6JLDVVZ",
        "outputId": "f4498888-7a15-431a-8ded-e9df39935568"
      },
      "execution_count": null,
      "outputs": [
        {
          "output_type": "stream",
          "name": "stdout",
          "text": [
            "<|start|>system<|message|>You are ChatGPT, a large language model trained by OpenAI.\n",
            "Knowledge cutoff: 2024-06\n",
            "Current date: 2025-08-19\n",
            "\n",
            "Reasoning: high\n",
            "\n",
            "# Valid channels: analysis, commentary, final. Channel must be included for every message.<|end|><|start|>user<|message|>Trinamool Congress leader Mahua Moitra has moved the Supreme Court against her expulsion from the Lok Sabha over the cash-for-query allegations against her. Moitra was ousted from the Parliament last week after the Ethics Committee of the Lok Sabha found her guilty of jeopardising national security by sharing her parliamentary portal's login credentials with businessman Darshan Hiranandani. ### You are an NER engine. Please reply in json with all the entities and relevant names.<|end|><|start|>assistant<|channel|>analysis<|message|>The user wants NER of the given paragraph. They want a JSON with all entities and relevant names. So I need to identify entities: People, organizations, places, etc. Then include relevant names. Probably include type of entity too.\n",
            "\n",
            "Given the text:\n",
            "\n",
            "\"Trinamool Congress leader Mahua Moitra has moved the Supreme Court against her expulsion from the Lok Sabha over the cash-for-query allegations against her. Moitra was ousted from the Parliament last week after the Ethics Committee of the Lok Sabha found her guilty of jeopardising national security by sharing her parliamentary portal's login credentials with businessman Darshan Hiranandani.\"\n",
            "\n",
            "So entities:\n",
            "\n",
            "Trinamool Congress -> Political Party\n",
            "leader -> title, maybe not required\n",
            "Mahua Moitra -> Person\n",
            "Supreme Court -> Court/Institution\n",
            "Lok Sabha -> Parliament\n",
            "Ethics Committee of the Lok Sabha -> Committee\n",
            "Parliament -> Government body\n",
            "Darshan Hiranandani -> Person (businessman)\n",
            "\n",
            "Also possibly 'cash-for-query allegations', 'national security', but those are not names. Terms like \"log in credentials\" probably not named entity.\n",
            "\n",
            "We might want to structure JSON with arrays of entity objects: each with \"text\", \"type\", maybe \"role\" or \"relevant\"? The prompt: \"reply in json with all the entities and relevant names.\"\n",
            "\n",
            "Thus we need to produce a JSON object, maybe with an array of entities. Entities include names like \"Trinamool Congress\", \"Mahua Moitra\", \"Supreme Court\", \"Lok Sabha\", \"Ethics Committee of the Lok Sabha\", \"Parliament\", \"Darshan Hiranandani\". Maybe also \"Businessman Darshan Hiranandani\" but name is same.\n",
            "\n",
            "We need to think of categories: Person, Organization, Institution, Committee, Court, Parliament, etc.\n",
            "\n",
            "We might do something like:\n",
            "\n",
            "{\n",
            "  \"entities\": [\n",
            "    {\"text\": \"Trinamool Congress\", \"type\": \"Political Party\"},\n",
            "    {\"text\": \"Mahua Moitra\", \"type\": \"Person\"},\n",
            "    {\"text\": \"Supreme Court\", \"type\": \"Court\"},\n",
            "    {\"text\": \"Lok Sabha\", \"type\": \"Parliament\"},\n",
            "    {\"text\": \"Ethics Committee of the Lok Sabha\", \"type\": \"Committee\"},\n",
            "    {\"text\": \"Parliament\", \"type\": \"Government Body\"},\n",
            "    {\"text\": \"Darshan Hiranandani\", \"type\": \"Person\", \"occupation\": \"Businessman\"}\n",
            "  ]\n",
            "}\n",
            "\n",
            "We might also separate the role \"Businessman\" from the person. But we can label \"Darshan Hiranandani\" as \"Businessman\".\n",
            "\n",
            "We might also include \"National Security\" but that's not a name per se. They might ask for \"relevant names\" (names of the entities). Probably we only need main proper names.\n",
            "\n",
            "Also \"cash-for-query allegations\" is a topic. But could be considered \"Allegation.\" But it's not a proper name. So can skip.\n",
            "\n",
            "Therefore JSON with \"entities\" array.\n",
            "\n",
            "The user: \"Please reply in json with all the entities and relevant names.\" I interpret this as produce a JSON response that lists all the entities and relevant names (like the names). So the JSON should be something like:\n",
            "\n",
            "{\n",
            "  \"entities\": [\n",
            "    ...\n",
            "  ]\n",
            "}\n",
            "\n",
            "We also want to identify entity type. Maybe they want \"entity\" and \"type\" fields. The relevant names might be the names of people and organizations. So we can produce as above.\n",
            "\n",
            "Alternatively, we could produce:\n",
            "\n",
            "{\n",
            "  \"Political Party\": [\"Trinamool Congress\"],\n",
            "  \"Person\": [\"Mahua Moitra\", \"Darshan Hiranandani\"],\n",
            "  \"Court\": [\"Supreme Court\"],\n",
            "  \"Parliament\": [\"Lok Sabha\"],\n",
            "  \"Committee\": [\"Ethics Committee of the Lok Sabha\"],\n",
            "  \"Businessman\": [\"Darshan Hiranandani\"],\n",
            "  ...\n",
            "}\n",
            "\n",
            "But that duplicates Darshan Hiranandani.\n",
            "\n",
            "We maybe produce a simpler format: \"entities\": {\"Person\": [ ...], \"Organization\": [ ...], ...}. That would be neat.\n",
            "\n",
            "Let's think: The user hasn't specified the exact format. They just say \"reply in json with all the entities and relevant names.\" So we can create a JSON object with keys being the entity categories and values being arrays of names.\n",
            "\n",
            "Potential categories: Person, Organization, Court, Committee, Parliament. Maybe also \"Businessman\" but that's part of Person's occupation.\n",
            "\n",
            "Alternatively, we can produce objects with \"name\" and \"role\" fields.\n",
            "\n",
            "Better to choose something simple but clear. For example:\n",
            "\n",
            "{\n",
            "  \"entities\": [\n",
            "    {\"entity\": \"Trinamool Congress\", \"type\": \"Political Party\"},\n",
            "    {\"entity\": \"Mahua Moitra\", \"type\": \"Person\"},\n",
            "    {\"entity\": \"Supreme Court\", \"type\": \"Court\"},\n",
            "    {\"entity\": \"Lok Sabha\", \"type\": \"Parliament\"},\n",
            "    {\"entity\": \"Ethics Committee of the Lok Sabha\", \"type\": \"Committee\"},\n",
            "    {\"\n"
          ]
        }
      ]
    }
  ]
}