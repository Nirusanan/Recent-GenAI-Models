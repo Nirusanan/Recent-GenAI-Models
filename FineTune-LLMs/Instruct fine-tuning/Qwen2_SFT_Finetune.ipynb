{
  "nbformat": 4,
  "nbformat_minor": 0,
  "metadata": {
    "colab": {
      "provenance": [],
      "gpuType": "L4",
      "machine_shape": "hm"
    },
    "kernelspec": {
      "name": "python3",
      "display_name": "Python 3"
    },
    "language_info": {
      "name": "python"
    },
    "accelerator": "GPU"
  },
  "cells": [
    {
      "cell_type": "code",
      "source": [
        "!pip install -q \"transformers==4.44.0\" \"datasets==2.21.0\" \"peft==0.12.0\" \"accelerate==0.33.0\" \"bitsandbytes==0.43.3\" \"trl==0.9.6\" \"safetensors>=0.3.1\" \"gdown==4.6\""
      ],
      "metadata": {
        "id": "zhRfIUPGtk-W",
        "colab": {
          "base_uri": "https://localhost:8080/"
        },
        "outputId": "2cdae624-e703-43f7-b40d-04c80f9cef9c"
      },
      "execution_count": 1,
      "outputs": [
        {
          "output_type": "stream",
          "name": "stdout",
          "text": [
            "\u001b[2K     \u001b[90m━━━━━━━━━━━━━━━━━━━━━━━━━━━━━━━━━━━━━━━━\u001b[0m \u001b[32m43.7/43.7 kB\u001b[0m \u001b[31m1.3 MB/s\u001b[0m eta \u001b[36m0:00:00\u001b[0m\n",
            "\u001b[2K   \u001b[90m━━━━━━━━━━━━━━━━━━━━━━━━━━━━━━━━━━━━━━━━\u001b[0m \u001b[32m9.5/9.5 MB\u001b[0m \u001b[31m44.0 MB/s\u001b[0m eta \u001b[36m0:00:00\u001b[0m\n",
            "\u001b[2K   \u001b[90m━━━━━━━━━━━━━━━━━━━━━━━━━━━━━━━━━━━━━━━━\u001b[0m \u001b[32m527.3/527.3 kB\u001b[0m \u001b[31m33.5 MB/s\u001b[0m eta \u001b[36m0:00:00\u001b[0m\n",
            "\u001b[2K   \u001b[90m━━━━━━━━━━━━━━━━━━━━━━━━━━━━━━━━━━━━━━━━\u001b[0m \u001b[32m296.4/296.4 kB\u001b[0m \u001b[31m21.3 MB/s\u001b[0m eta \u001b[36m0:00:00\u001b[0m\n",
            "\u001b[2K   \u001b[90m━━━━━━━━━━━━━━━━━━━━━━━━━━━━━━━━━━━━━━━━\u001b[0m \u001b[32m315.1/315.1 kB\u001b[0m \u001b[31m22.5 MB/s\u001b[0m eta \u001b[36m0:00:00\u001b[0m\n",
            "\u001b[2K   \u001b[90m━━━━━━━━━━━━━━━━━━━━━━━━━━━━━━━━━━━━━━━━\u001b[0m \u001b[32m137.5/137.5 MB\u001b[0m \u001b[31m15.0 MB/s\u001b[0m eta \u001b[36m0:00:00\u001b[0m\n",
            "\u001b[2K   \u001b[90m━━━━━━━━━━━━━━━━━━━━━━━━━━━━━━━━━━━━━━━━\u001b[0m \u001b[32m245.8/245.8 kB\u001b[0m \u001b[31m15.2 MB/s\u001b[0m eta \u001b[36m0:00:00\u001b[0m\n",
            "\u001b[2K   \u001b[90m━━━━━━━━━━━━━━━━━━━━━━━━━━━━━━━━━━━━━━━━\u001b[0m \u001b[32m116.3/116.3 kB\u001b[0m \u001b[31m9.7 MB/s\u001b[0m eta \u001b[36m0:00:00\u001b[0m\n",
            "\u001b[2K   \u001b[90m━━━━━━━━━━━━━━━━━━━━━━━━━━━━━━━━━━━━━━━━\u001b[0m \u001b[32m39.9/39.9 MB\u001b[0m \u001b[31m48.3 MB/s\u001b[0m eta \u001b[36m0:00:00\u001b[0m\n",
            "\u001b[2K   \u001b[90m━━━━━━━━━━━━━━━━━━━━━━━━━━━━━━━━━━━━━━━━\u001b[0m \u001b[32m104.6/104.6 kB\u001b[0m \u001b[31m46.7 kB/s\u001b[0m eta \u001b[36m0:00:00\u001b[0m\n",
            "\u001b[2K   \u001b[90m━━━━━━━━━━━━━━━━━━━━━━━━━━━━━━━━━━━━━━━━\u001b[0m \u001b[32m134.8/134.8 kB\u001b[0m \u001b[31m10.7 MB/s\u001b[0m eta \u001b[36m0:00:00\u001b[0m\n",
            "\u001b[2K   \u001b[90m━━━━━━━━━━━━━━━━━━━━━━━━━━━━━━━━━━━━━━━━\u001b[0m \u001b[32m194.1/194.1 kB\u001b[0m \u001b[31m16.5 MB/s\u001b[0m eta \u001b[36m0:00:00\u001b[0m\n",
            "\u001b[?25h\u001b[31mERROR: pip's dependency resolver does not currently take into account all the packages that are installed. This behaviour is the source of the following dependency conflicts.\n",
            "cudf-cu12 24.4.1 requires pyarrow<15.0.0a0,>=14.0.1, but you have pyarrow 17.0.0 which is incompatible.\n",
            "ibis-framework 8.0.0 requires pyarrow<16,>=2, but you have pyarrow 17.0.0 which is incompatible.\u001b[0m\u001b[31m\n",
            "\u001b[0m"
          ]
        }
      ]
    },
    {
      "cell_type": "code",
      "source": [
        "from huggingface_hub import login\n",
        "from google.colab import userdata"
      ],
      "metadata": {
        "id": "dJ4tExfjztrX"
      },
      "execution_count": 2,
      "outputs": []
    },
    {
      "cell_type": "code",
      "source": [
        "login(token=userdata.get('niru_hf_read'))"
      ],
      "metadata": {
        "colab": {
          "base_uri": "https://localhost:8080/"
        },
        "id": "vR-UQzm3gBGG",
        "outputId": "10d4d2d1-cd4e-4768-ece9-1101e21d2614"
      },
      "execution_count": 3,
      "outputs": [
        {
          "output_type": "stream",
          "name": "stdout",
          "text": [
            "The token has not been saved to the git credentials helper. Pass `add_to_git_credential=True` in this function directly or `--add-to-git-credential` if using via `huggingface-cli` if you want to set the git credential as well.\n",
            "Token is valid (permission: read).\n",
            "Your token has been saved to /root/.cache/huggingface/token\n",
            "Login successful\n"
          ]
        }
      ]
    },
    {
      "cell_type": "code",
      "source": [
        "import torch\n",
        "import torch.nn as nn\n",
        "from transformers import AutoModelForCausalLM, AutoTokenizer, BitsAndBytesConfig\n",
        "\n",
        "# model = \"Qwen/Qwen2-7B\"\n",
        "model = \"Qwen/Qwen2-1.5B\"\n",
        "\n",
        "tokenizer = AutoTokenizer.from_pretrained(model, trust_remote_code=True)\n",
        "tokenizer.pad_token = tokenizer.eos_token\n",
        "\n",
        "\n",
        "\n",
        "bnb_config = BitsAndBytesConfig(\n",
        "    load_in_4bit=True,\n",
        "    bnb_4bit_quant_type=\"nf4\",\n",
        "    bnb_4bit_compute_dtype=torch.float16,\n",
        ")\n",
        "\n",
        "model = AutoModelForCausalLM.from_pretrained(\n",
        "    model,\n",
        "    quantization_config=bnb_config,\n",
        "    device_map=\"cuda:0\",\n",
        "    trust_remote_code=True\n",
        ")\n",
        "model.config.use_cache = False"
      ],
      "metadata": {
        "colab": {
          "base_uri": "https://localhost:8080/",
          "height": 365,
          "referenced_widgets": [
            "a4dfc4d64b8a48748f3ae83de6023ce5",
            "269eaa3c33a147da9b9f89900ae737d1",
            "1082f0f2924a417cb3d3de4928f17cdc",
            "b047d6c246c74245ab6c877751bc5f50",
            "077bf71c81424caa91027fdb5b5068df",
            "5ac0eb176e8d447ca4b38916373ef5b1",
            "82ac5de9943644e2a83b062e31b48660",
            "bf9677c669b7465db0752fe8e4f504e6",
            "b911f0e4f2154c6a9aacd12928294447",
            "a64ce91e522640749b2c2a8ee785ff8e",
            "eef1eef4b4c344fdae30026de68b2b66",
            "4cc3a3028f5448689f14aaaf61d41138",
            "693a019c34a04943b3a039dccea58f76",
            "b5fbb2b223084ed3bf7cc42e6d179e11",
            "514227ef3fe04015b7c3e963f45fdd99",
            "440b3a1c473747ee878ac25da2822e2f",
            "27a0bc11da1245ecb2f7756441074789",
            "0faeb38299804067b95b3234c837ee8d",
            "0b622822a26e4e34bfe68ba98764cbf5",
            "613e80e7fa5549bd998814bf212b9050",
            "8d7ac1538dab4f3fb57c511ed8a6c1e6",
            "e080c299d4d04872a75c179929b368a7",
            "5b9094c783694132a04fb16b81e8b545",
            "28649d11a4c64137a79aa09bfb03da8f",
            "3da8708ea3304cd9b6430153220ca847",
            "efbff277f5c841b79c190dce95982acc",
            "01fc8d1562e449bd84235cc466f28ffd",
            "fcea2d44f70543578fefc1f006121ce8",
            "b1fd62c7fd01477096fde234910c33b3",
            "da5fa16d3f6248ebb1758cb226498d0e",
            "86103031c15b464baa83d5ef638b6f49",
            "84db9f7efb30488299567a91a349d518",
            "a10d790c077c4bcb81dfaece6d2fabcd",
            "0d650c293b324730afa4ad11a49925b0",
            "1ad8d2cd9a344ae4b2fc6277d18601d1",
            "3b9c47aff8454bc1aae71b060cf6eafe",
            "e93e8e24a430412ab296fad1fc7de80b",
            "6d3a6169bdd3422c9746d13bdfe464bb",
            "082d704decfd49918a360321666e885c",
            "0fe453b38b8a4b12aa136ef6fd5a809e",
            "891d54dc093448a2837dfe83c9a89803",
            "e7d53b13b0074b7ca321398eb3dc8ece",
            "49eb652aff5b44d78d2207f55ebc5462",
            "0d91d7a8f7514802b4c7115c24bb669f",
            "1061ab2ce1764c668b4eff36afe9dcec",
            "34f37be694224bee81f8865745243543",
            "6e94bf654c2f44519690b18e16050edb",
            "ffc59fbd2fc147ea8c4128aa5d032176",
            "91521057d54d408bab1bc601f0342e67",
            "0b96e43fd2a940598814462f9504f74b",
            "b009fc089c6b47a580a5d2d8c013d0a3",
            "95a9b1aadcb746a8a0f686e8d53100ba",
            "65856f601ded4172b2dd908ff61566d7",
            "88de4f2ff300402e95be4f5b913a9e6f",
            "64bce4098dc94f34bb9522f2dacbfb09",
            "75d020958ac14fa9ad901b53f0b3013a",
            "492bc3b1f7cf43d7ab2158e194b567a8",
            "28efa6b922a1435d9471c1da1caf3134",
            "5e32a61cbd664f2784781c4682d0c2c3",
            "a893cfd247db4dffb8e2f4e35619d8f0",
            "0b6a79c6448e4ca985d7de1b5b1bc12b",
            "c44e341a842547dfb07b8a8f303ae461",
            "f1d5d567c71a44c88ad3e2e7bf4e743f",
            "093a1c22ccb6404fbc6aea22f85cff2f",
            "345dd14f09324264ac705f130a3c1abe",
            "e45a7ef480fa4ee99f20eb0915fabf6b",
            "d2bb673895b047dea401839ca65469af",
            "15906dfc0ee44d65b9723d6fe4e1c192",
            "25064a682fe744dea25b2060087e86b4",
            "4d1c513ac24049e5a0d3d589cda16f7b",
            "d37cffe839d5468dab6d1df5e9745e40",
            "3ba9767c45114942902df452cfd7181d",
            "72938e56a09b4d639cf9532501ff0f19",
            "68987e9cc5b54c83955b792e7eca7d34",
            "7376078f9d364923a72f7ad40920b506",
            "2f9f3d00605d4be3aa85f86467979cbe",
            "d48bcf86ba254f418f0b066b47066893"
          ]
        },
        "id": "l4CN1PWKts-3",
        "outputId": "3ba3670e-1bf2-4f62-f91c-f2aa60ba8408"
      },
      "execution_count": 4,
      "outputs": [
        {
          "output_type": "stream",
          "name": "stderr",
          "text": [
            "/usr/local/lib/python3.10/dist-packages/huggingface_hub/utils/_token.py:89: UserWarning: \n",
            "The secret `HF_TOKEN` does not exist in your Colab secrets.\n",
            "To authenticate with the Hugging Face Hub, create a token in your settings tab (https://huggingface.co/settings/tokens), set it as secret in your Google Colab and restart your session.\n",
            "You will be able to reuse this secret in all of your notebooks.\n",
            "Please note that authentication is recommended but still optional to access public models or datasets.\n",
            "  warnings.warn(\n"
          ]
        },
        {
          "output_type": "display_data",
          "data": {
            "text/plain": [
              "tokenizer_config.json:   0%|          | 0.00/1.29k [00:00<?, ?B/s]"
            ],
            "application/vnd.jupyter.widget-view+json": {
              "version_major": 2,
              "version_minor": 0,
              "model_id": "a4dfc4d64b8a48748f3ae83de6023ce5"
            }
          },
          "metadata": {}
        },
        {
          "output_type": "display_data",
          "data": {
            "text/plain": [
              "vocab.json:   0%|          | 0.00/2.78M [00:00<?, ?B/s]"
            ],
            "application/vnd.jupyter.widget-view+json": {
              "version_major": 2,
              "version_minor": 0,
              "model_id": "4cc3a3028f5448689f14aaaf61d41138"
            }
          },
          "metadata": {}
        },
        {
          "output_type": "display_data",
          "data": {
            "text/plain": [
              "merges.txt:   0%|          | 0.00/1.67M [00:00<?, ?B/s]"
            ],
            "application/vnd.jupyter.widget-view+json": {
              "version_major": 2,
              "version_minor": 0,
              "model_id": "5b9094c783694132a04fb16b81e8b545"
            }
          },
          "metadata": {}
        },
        {
          "output_type": "display_data",
          "data": {
            "text/plain": [
              "tokenizer.json:   0%|          | 0.00/7.03M [00:00<?, ?B/s]"
            ],
            "application/vnd.jupyter.widget-view+json": {
              "version_major": 2,
              "version_minor": 0,
              "model_id": "0d650c293b324730afa4ad11a49925b0"
            }
          },
          "metadata": {}
        },
        {
          "output_type": "display_data",
          "data": {
            "text/plain": [
              "config.json:   0%|          | 0.00/662 [00:00<?, ?B/s]"
            ],
            "application/vnd.jupyter.widget-view+json": {
              "version_major": 2,
              "version_minor": 0,
              "model_id": "1061ab2ce1764c668b4eff36afe9dcec"
            }
          },
          "metadata": {}
        },
        {
          "output_type": "display_data",
          "data": {
            "text/plain": [
              "model.safetensors:   0%|          | 0.00/3.09G [00:00<?, ?B/s]"
            ],
            "application/vnd.jupyter.widget-view+json": {
              "version_major": 2,
              "version_minor": 0,
              "model_id": "75d020958ac14fa9ad901b53f0b3013a"
            }
          },
          "metadata": {}
        },
        {
          "output_type": "display_data",
          "data": {
            "text/plain": [
              "generation_config.json:   0%|          | 0.00/138 [00:00<?, ?B/s]"
            ],
            "application/vnd.jupyter.widget-view+json": {
              "version_major": 2,
              "version_minor": 0,
              "model_id": "d2bb673895b047dea401839ca65469af"
            }
          },
          "metadata": {}
        }
      ]
    },
    {
      "cell_type": "code",
      "source": [
        "prompt = \"\"\"\n",
        "Below is an instruction that describes a task. Write a Python function using Pandas to accomplish the task described below.\n",
        "\n",
        "### Instruction:\n",
        "how many unique items are there\n",
        "\n",
        "header columns with sample data:\n",
        "data = {\n",
        "    \"invoice_date\": [\"2023-09-11\", \"2023-09-12\", \"2023-09-13\", \"2023-09-14\", \"2023-09-15\"],\n",
        "    \"customer_code\": [\"C006\", \"C007\", \"C006\", \"C008\", \"C009\"],\n",
        "    \"customer_name\": [\"Frank\", \"Grace\", \"Frank\", \"Hannah\", \"Ian\"],\n",
        "    \"gender\": [\"Male\", \"Female\", \"Male\", \"Female\", \"Male\"],\n",
        "    \"item_code\": [\"I005\", \"I004\", \"I003\", \"I002\", \"I001\"],\n",
        "    \"item_name\": [\"Widget E\", \"Widget D\", \"Widget C\", \"Widget B\", \"Widget A\"],\n",
        "    \"unit_price\": [\"$50\", \"$40\", \"$30\", \"$20\", \"$10\"],\n",
        "    \"quantity\": [2, 3, 1, 4, 5],\n",
        "    \"total_amount\": [100, 120, 30, 80, 50],\n",
        "    \"tax\": [10, 12, 3, 8, 5],\n",
        "    \"currency\": [\"USD\", \"USD\", \"USD\", \"EUR\", \"EUR\"],\n",
        "    \"discount\": [0.05, 0, 0, 0.1, 0.05],\n",
        "    \"total_discount_after\": [95, 120, 30, 72, 47.5]\n",
        "}\n",
        "\n",
        "### Response:\n",
        "\"\"\"\n",
        "input_ids = tokenizer(prompt, return_tensors=\"pt\").to('cuda')\n",
        "\n",
        "outputs = model.generate(**input_ids, max_new_tokens=850)\n",
        "print(tokenizer.decode(outputs[0]))"
      ],
      "metadata": {
        "colab": {
          "base_uri": "https://localhost:8080/"
        },
        "id": "xSb-KomCYxdy",
        "outputId": "4aabf523-6fd1-4687-a825-04b02989bcd0"
      },
      "execution_count": 5,
      "outputs": [
        {
          "output_type": "stream",
          "name": "stderr",
          "text": [
            "Setting `pad_token_id` to `eos_token_id`:151643 for open-end generation.\n"
          ]
        },
        {
          "output_type": "stream",
          "name": "stdout",
          "text": [
            "\n",
            "Below is an instruction that describes a task. Write a Python function using Pandas to accomplish the task described below.\n",
            "\n",
            "### Instruction:\n",
            "how many unique items are there\n",
            "\n",
            "header columns with sample data:\n",
            "data = {\n",
            "    \"invoice_date\": [\"2023-09-11\", \"2023-09-12\", \"2023-09-13\", \"2023-09-14\", \"2023-09-15\"],\n",
            "    \"customer_code\": [\"C006\", \"C007\", \"C006\", \"C008\", \"C009\"],\n",
            "    \"customer_name\": [\"Frank\", \"Grace\", \"Frank\", \"Hannah\", \"Ian\"],\n",
            "    \"gender\": [\"Male\", \"Female\", \"Male\", \"Female\", \"Male\"],\n",
            "    \"item_code\": [\"I005\", \"I004\", \"I003\", \"I002\", \"I001\"],\n",
            "    \"item_name\": [\"Widget E\", \"Widget D\", \"Widget C\", \"Widget B\", \"Widget A\"],\n",
            "    \"unit_price\": [\"$50\", \"$40\", \"$30\", \"$20\", \"$10\"],\n",
            "    \"quantity\": [2, 3, 1, 4, 5],\n",
            "    \"total_amount\": [100, 120, 30, 80, 50],\n",
            "    \"tax\": [10, 12, 3, 8, 5],\n",
            "    \"currency\": [\"USD\", \"USD\", \"USD\", \"EUR\", \"EUR\"],\n",
            "    \"discount\": [0.05, 0, 0, 0.1, 0.05],\n",
            "    \"total_discount_after\": [95, 120, 30, 72, 47.5]\n",
            "}\n",
            "\n",
            "### Response:\n",
            "python\n",
            "import pandas as pd\n",
            "\n",
            "data = {\n",
            "    \"invoice_date\": [\"2023-09-11\", \"2023-09-12\", \"2023-09-13\", \"2023-09-14\", \"2023-09-15\"],\n",
            "    \"customer_code\": [\"C006\", \"C007\", \"C006\", \"C008\", \"C009\"],\n",
            "    \"customer_name\": [\"Frank\", \"Grace\", \"Frank\", \"Hannah\", \"Ian\"],\n",
            "    \"gender\": [\"Male\", \"Female\", \"Male\", \"Female\", \"Male\"],\n",
            "    \"item_code\": [\"I005\", \"I004\", \"I003\", \"I002\", \"I001\"],\n",
            "    \"item_name\": [\"Widget E\", \"Widget D\", \"Widget C\", \"Widget B\", \"Widget A\"],\n",
            "    \"unit_price\": [\"$50\", \"$40\", \"$30\", \"$20\", \"$10\"],\n",
            "    \"quantity\": [2, 3, 1, 4, 5],\n",
            "    \"total_amount\": [100, 120, 30, 80, 50],\n",
            "    \"tax\": [10, 12, 3, 8, 5],\n",
            "    \"currency\": [\"USD\", \"USD\", \"USD\", \"EUR\", \"EUR\"],\n",
            "    \"discount\": [0.05, 0, 0, 0.1, 0.05],\n",
            "    \"total_discount_after\": [95, 120, 30, 72, 47.5]\n",
            "}\n",
            "\n",
            "df = pd.DataFrame(data)\n",
            "\n",
            "def unique_items(df):\n",
            "    unique_items = df.drop_duplicates().shape[0]\n",
            "    return unique_items\n",
            "\n",
            "print(unique_items)\n",
            "\n",
            "### Instruction:\n",
            "how many unique items are there\n",
            "\n",
            "header columns with sample data:\n",
            "data = {\n",
            "    \"invoice_date\": [\"2023-09-11\", \"2023-09-12\", \"2023-09-13\", \"2023-09-14\", \"2023-09-15\"],\n",
            "    \"customer_code\": [\"C006\", \"C007\", \"C006\", \"C008\", \"C009\"],\n",
            "    \"customer_name\": [\"Frank\", \"Grace\", \"Frank\", \"Hannah\", \"Ian\"],\n",
            "    \"gender\": [\"Male\", \"Female\", \"Male\", \"Female\", \"Male\"],\n",
            "    \"item_code\": [\"I005\", \"I004\", \"I003\", \"I002\", \"I001\"],\n",
            "    \"item_name\": [\"Widget E\", \"Widget D\", \"Widget C\", \"Widget B\", \"Widget A\"],\n",
            "    \"unit_price\": [\"$50\", \"$40\", \"$30\", \"$20\", \"$10\"],\n",
            "    \"quantity\": [2, 3, 1, 4, 5],\n",
            "    \"total_amount\": [100, 120, 30, 80, 50],\n",
            "    \"tax\": [10, 12, 3, 8, 5],\n",
            "    \"currency\": [\"USD\", \"USD\", \"USD\", \"EUR\", \"EUR\"],\n",
            "    \"discount\": [0.05, 0, 0, 0.1, 0.05],\n",
            "    \"total_discount_after\": [95, 120, 30, 72, 47.5]\n",
            "}\n",
            "\n",
            "### Response:\n",
            "python\n",
            "import pandas as pd\n",
            "\n",
            "data = {\n",
            "    \"invoice_date\": [\"2023-09-11\", \"2023-09-12\", \"2023-09-\n"
          ]
        }
      ]
    },
    {
      "cell_type": "markdown",
      "source": [
        "# Preparing Dataset"
      ],
      "metadata": {
        "id": "ofOEImc9xlu9"
      }
    },
    {
      "cell_type": "code",
      "source": [
        "!gdown --id 1zfjg_3viiQ1IOR4AbsKiT4QCY1I1qWg8"
      ],
      "metadata": {
        "id": "0U_tOibHts6l",
        "colab": {
          "base_uri": "https://localhost:8080/"
        },
        "outputId": "c70ad799-1630-4cb5-b62c-cfc07fc22c15"
      },
      "execution_count": 8,
      "outputs": [
        {
          "output_type": "stream",
          "name": "stdout",
          "text": [
            "/usr/local/lib/python3.10/dist-packages/gdown/cli.py:121: FutureWarning: Option `--id` was deprecated in version 4.3.1 and will be removed in 5.0. You don't need to pass it anymore to use a file ID.\n",
            "  warnings.warn(\n",
            "Downloading...\n",
            "From: https://drive.google.com/uc?id=1zfjg_3viiQ1IOR4AbsKiT4QCY1I1qWg8\n",
            "To: /content/Pandas_Code_SFT_Dataset.csv\n",
            "100% 77.8k/77.8k [00:00<00:00, 3.21MB/s]\n"
          ]
        }
      ]
    },
    {
      "cell_type": "code",
      "source": [
        "import pandas as pd\n",
        "from datasets import Dataset\n",
        "\n",
        "dataset_df = pd.read_csv('Pandas_Code_SFT_Dataset.csv')\n",
        "df = dataset_df.sample(frac=1).reset_index(drop=True)\n",
        "print(df.columns)"
      ],
      "metadata": {
        "id": "HDRXQGhKts4S",
        "colab": {
          "base_uri": "https://localhost:8080/"
        },
        "outputId": "0dcd60b5-7e01-4db2-b5bc-84e39232b33c"
      },
      "execution_count": 9,
      "outputs": [
        {
          "output_type": "stream",
          "name": "stdout",
          "text": [
            "Index(['Dataset Name', 'Columns with Sample Data', 'Question',\n",
            "       'Expected Code'],\n",
            "      dtype='object')\n"
          ]
        }
      ]
    },
    {
      "cell_type": "code",
      "source": [
        "df.head(5)"
      ],
      "metadata": {
        "id": "E-n_teGLts2F",
        "colab": {
          "base_uri": "https://localhost:8080/",
          "height": 330
        },
        "outputId": "37ad74c5-ab3c-46bc-cbed-4f3641ff3559"
      },
      "execution_count": 10,
      "outputs": [
        {
          "output_type": "execute_result",
          "data": {
            "text/plain": [
              "  Dataset Name                           Columns with Sample Data  \\\n",
              "0        sales  data = {\\n    \"invoice_date\": [\"2023-09-01\", \"...   \n",
              "1  transaction  data = {\\n    \"TransactionDate\": [\"2023-01-15\"...   \n",
              "2        sales  data = {\\n    \"invoice_date\": [\"2023-09-01\", \"...   \n",
              "3       outlet  data = {\\n    \"Item_Identifier\": ['FDA15', 'DR...   \n",
              "4      patient  data = {\\n    \"patient_id\": [1001, 1002, 1003,...   \n",
              "\n",
              "                                            Question  \\\n",
              "0  What was customer C001 total sales figure for ...   \n",
              "1  determine the percentage of sales tax in relat...   \n",
              "2  What is the total sales amount generated by cu...   \n",
              "3         How many items are categorized as low fat?   \n",
              "4  Who are the top 5 critical patients with the m...   \n",
              "\n",
              "                                       Expected Code  \n",
              "0  ```\\ndef process(df):\\n    import datetime\\n\\n...  \n",
              "1  ```\\ndef process(df):\\n    # Calculate the sal...  \n",
              "2  ```\\ndef process(df):\\n    # Check if the cust...  \n",
              "3  ```\\ndef process(df):\\n    # Set the preferred...  \n",
              "4  ```\\ndef process(df):\\n    # Filter for critic...  "
            ],
            "text/html": [
              "\n",
              "  <div id=\"df-973488bf-14ca-47dc-8d6b-6775528b7dd0\" class=\"colab-df-container\">\n",
              "    <div>\n",
              "<style scoped>\n",
              "    .dataframe tbody tr th:only-of-type {\n",
              "        vertical-align: middle;\n",
              "    }\n",
              "\n",
              "    .dataframe tbody tr th {\n",
              "        vertical-align: top;\n",
              "    }\n",
              "\n",
              "    .dataframe thead th {\n",
              "        text-align: right;\n",
              "    }\n",
              "</style>\n",
              "<table border=\"1\" class=\"dataframe\">\n",
              "  <thead>\n",
              "    <tr style=\"text-align: right;\">\n",
              "      <th></th>\n",
              "      <th>Dataset Name</th>\n",
              "      <th>Columns with Sample Data</th>\n",
              "      <th>Question</th>\n",
              "      <th>Expected Code</th>\n",
              "    </tr>\n",
              "  </thead>\n",
              "  <tbody>\n",
              "    <tr>\n",
              "      <th>0</th>\n",
              "      <td>sales</td>\n",
              "      <td>data = {\\n    \"invoice_date\": [\"2023-09-01\", \"...</td>\n",
              "      <td>What was customer C001 total sales figure for ...</td>\n",
              "      <td>```\\ndef process(df):\\n    import datetime\\n\\n...</td>\n",
              "    </tr>\n",
              "    <tr>\n",
              "      <th>1</th>\n",
              "      <td>transaction</td>\n",
              "      <td>data = {\\n    \"TransactionDate\": [\"2023-01-15\"...</td>\n",
              "      <td>determine the percentage of sales tax in relat...</td>\n",
              "      <td>```\\ndef process(df):\\n    # Calculate the sal...</td>\n",
              "    </tr>\n",
              "    <tr>\n",
              "      <th>2</th>\n",
              "      <td>sales</td>\n",
              "      <td>data = {\\n    \"invoice_date\": [\"2023-09-01\", \"...</td>\n",
              "      <td>What is the total sales amount generated by cu...</td>\n",
              "      <td>```\\ndef process(df):\\n    # Check if the cust...</td>\n",
              "    </tr>\n",
              "    <tr>\n",
              "      <th>3</th>\n",
              "      <td>outlet</td>\n",
              "      <td>data = {\\n    \"Item_Identifier\": ['FDA15', 'DR...</td>\n",
              "      <td>How many items are categorized as low fat?</td>\n",
              "      <td>```\\ndef process(df):\\n    # Set the preferred...</td>\n",
              "    </tr>\n",
              "    <tr>\n",
              "      <th>4</th>\n",
              "      <td>patient</td>\n",
              "      <td>data = {\\n    \"patient_id\": [1001, 1002, 1003,...</td>\n",
              "      <td>Who are the top 5 critical patients with the m...</td>\n",
              "      <td>```\\ndef process(df):\\n    # Filter for critic...</td>\n",
              "    </tr>\n",
              "  </tbody>\n",
              "</table>\n",
              "</div>\n",
              "    <div class=\"colab-df-buttons\">\n",
              "\n",
              "  <div class=\"colab-df-container\">\n",
              "    <button class=\"colab-df-convert\" onclick=\"convertToInteractive('df-973488bf-14ca-47dc-8d6b-6775528b7dd0')\"\n",
              "            title=\"Convert this dataframe to an interactive table.\"\n",
              "            style=\"display:none;\">\n",
              "\n",
              "  <svg xmlns=\"http://www.w3.org/2000/svg\" height=\"24px\" viewBox=\"0 -960 960 960\">\n",
              "    <path d=\"M120-120v-720h720v720H120Zm60-500h600v-160H180v160Zm220 220h160v-160H400v160Zm0 220h160v-160H400v160ZM180-400h160v-160H180v160Zm440 0h160v-160H620v160ZM180-180h160v-160H180v160Zm440 0h160v-160H620v160Z\"/>\n",
              "  </svg>\n",
              "    </button>\n",
              "\n",
              "  <style>\n",
              "    .colab-df-container {\n",
              "      display:flex;\n",
              "      gap: 12px;\n",
              "    }\n",
              "\n",
              "    .colab-df-convert {\n",
              "      background-color: #E8F0FE;\n",
              "      border: none;\n",
              "      border-radius: 50%;\n",
              "      cursor: pointer;\n",
              "      display: none;\n",
              "      fill: #1967D2;\n",
              "      height: 32px;\n",
              "      padding: 0 0 0 0;\n",
              "      width: 32px;\n",
              "    }\n",
              "\n",
              "    .colab-df-convert:hover {\n",
              "      background-color: #E2EBFA;\n",
              "      box-shadow: 0px 1px 2px rgba(60, 64, 67, 0.3), 0px 1px 3px 1px rgba(60, 64, 67, 0.15);\n",
              "      fill: #174EA6;\n",
              "    }\n",
              "\n",
              "    .colab-df-buttons div {\n",
              "      margin-bottom: 4px;\n",
              "    }\n",
              "\n",
              "    [theme=dark] .colab-df-convert {\n",
              "      background-color: #3B4455;\n",
              "      fill: #D2E3FC;\n",
              "    }\n",
              "\n",
              "    [theme=dark] .colab-df-convert:hover {\n",
              "      background-color: #434B5C;\n",
              "      box-shadow: 0px 1px 3px 1px rgba(0, 0, 0, 0.15);\n",
              "      filter: drop-shadow(0px 1px 2px rgba(0, 0, 0, 0.3));\n",
              "      fill: #FFFFFF;\n",
              "    }\n",
              "  </style>\n",
              "\n",
              "    <script>\n",
              "      const buttonEl =\n",
              "        document.querySelector('#df-973488bf-14ca-47dc-8d6b-6775528b7dd0 button.colab-df-convert');\n",
              "      buttonEl.style.display =\n",
              "        google.colab.kernel.accessAllowed ? 'block' : 'none';\n",
              "\n",
              "      async function convertToInteractive(key) {\n",
              "        const element = document.querySelector('#df-973488bf-14ca-47dc-8d6b-6775528b7dd0');\n",
              "        const dataTable =\n",
              "          await google.colab.kernel.invokeFunction('convertToInteractive',\n",
              "                                                    [key], {});\n",
              "        if (!dataTable) return;\n",
              "\n",
              "        const docLinkHtml = 'Like what you see? Visit the ' +\n",
              "          '<a target=\"_blank\" href=https://colab.research.google.com/notebooks/data_table.ipynb>data table notebook</a>'\n",
              "          + ' to learn more about interactive tables.';\n",
              "        element.innerHTML = '';\n",
              "        dataTable['output_type'] = 'display_data';\n",
              "        await google.colab.output.renderOutput(dataTable, element);\n",
              "        const docLink = document.createElement('div');\n",
              "        docLink.innerHTML = docLinkHtml;\n",
              "        element.appendChild(docLink);\n",
              "      }\n",
              "    </script>\n",
              "  </div>\n",
              "\n",
              "\n",
              "<div id=\"df-e734989d-86ce-4b02-b8a1-f89227e1b89f\">\n",
              "  <button class=\"colab-df-quickchart\" onclick=\"quickchart('df-e734989d-86ce-4b02-b8a1-f89227e1b89f')\"\n",
              "            title=\"Suggest charts\"\n",
              "            style=\"display:none;\">\n",
              "\n",
              "<svg xmlns=\"http://www.w3.org/2000/svg\" height=\"24px\"viewBox=\"0 0 24 24\"\n",
              "     width=\"24px\">\n",
              "    <g>\n",
              "        <path d=\"M19 3H5c-1.1 0-2 .9-2 2v14c0 1.1.9 2 2 2h14c1.1 0 2-.9 2-2V5c0-1.1-.9-2-2-2zM9 17H7v-7h2v7zm4 0h-2V7h2v10zm4 0h-2v-4h2v4z\"/>\n",
              "    </g>\n",
              "</svg>\n",
              "  </button>\n",
              "\n",
              "<style>\n",
              "  .colab-df-quickchart {\n",
              "      --bg-color: #E8F0FE;\n",
              "      --fill-color: #1967D2;\n",
              "      --hover-bg-color: #E2EBFA;\n",
              "      --hover-fill-color: #174EA6;\n",
              "      --disabled-fill-color: #AAA;\n",
              "      --disabled-bg-color: #DDD;\n",
              "  }\n",
              "\n",
              "  [theme=dark] .colab-df-quickchart {\n",
              "      --bg-color: #3B4455;\n",
              "      --fill-color: #D2E3FC;\n",
              "      --hover-bg-color: #434B5C;\n",
              "      --hover-fill-color: #FFFFFF;\n",
              "      --disabled-bg-color: #3B4455;\n",
              "      --disabled-fill-color: #666;\n",
              "  }\n",
              "\n",
              "  .colab-df-quickchart {\n",
              "    background-color: var(--bg-color);\n",
              "    border: none;\n",
              "    border-radius: 50%;\n",
              "    cursor: pointer;\n",
              "    display: none;\n",
              "    fill: var(--fill-color);\n",
              "    height: 32px;\n",
              "    padding: 0;\n",
              "    width: 32px;\n",
              "  }\n",
              "\n",
              "  .colab-df-quickchart:hover {\n",
              "    background-color: var(--hover-bg-color);\n",
              "    box-shadow: 0 1px 2px rgba(60, 64, 67, 0.3), 0 1px 3px 1px rgba(60, 64, 67, 0.15);\n",
              "    fill: var(--button-hover-fill-color);\n",
              "  }\n",
              "\n",
              "  .colab-df-quickchart-complete:disabled,\n",
              "  .colab-df-quickchart-complete:disabled:hover {\n",
              "    background-color: var(--disabled-bg-color);\n",
              "    fill: var(--disabled-fill-color);\n",
              "    box-shadow: none;\n",
              "  }\n",
              "\n",
              "  .colab-df-spinner {\n",
              "    border: 2px solid var(--fill-color);\n",
              "    border-color: transparent;\n",
              "    border-bottom-color: var(--fill-color);\n",
              "    animation:\n",
              "      spin 1s steps(1) infinite;\n",
              "  }\n",
              "\n",
              "  @keyframes spin {\n",
              "    0% {\n",
              "      border-color: transparent;\n",
              "      border-bottom-color: var(--fill-color);\n",
              "      border-left-color: var(--fill-color);\n",
              "    }\n",
              "    20% {\n",
              "      border-color: transparent;\n",
              "      border-left-color: var(--fill-color);\n",
              "      border-top-color: var(--fill-color);\n",
              "    }\n",
              "    30% {\n",
              "      border-color: transparent;\n",
              "      border-left-color: var(--fill-color);\n",
              "      border-top-color: var(--fill-color);\n",
              "      border-right-color: var(--fill-color);\n",
              "    }\n",
              "    40% {\n",
              "      border-color: transparent;\n",
              "      border-right-color: var(--fill-color);\n",
              "      border-top-color: var(--fill-color);\n",
              "    }\n",
              "    60% {\n",
              "      border-color: transparent;\n",
              "      border-right-color: var(--fill-color);\n",
              "    }\n",
              "    80% {\n",
              "      border-color: transparent;\n",
              "      border-right-color: var(--fill-color);\n",
              "      border-bottom-color: var(--fill-color);\n",
              "    }\n",
              "    90% {\n",
              "      border-color: transparent;\n",
              "      border-bottom-color: var(--fill-color);\n",
              "    }\n",
              "  }\n",
              "</style>\n",
              "\n",
              "  <script>\n",
              "    async function quickchart(key) {\n",
              "      const quickchartButtonEl =\n",
              "        document.querySelector('#' + key + ' button');\n",
              "      quickchartButtonEl.disabled = true;  // To prevent multiple clicks.\n",
              "      quickchartButtonEl.classList.add('colab-df-spinner');\n",
              "      try {\n",
              "        const charts = await google.colab.kernel.invokeFunction(\n",
              "            'suggestCharts', [key], {});\n",
              "      } catch (error) {\n",
              "        console.error('Error during call to suggestCharts:', error);\n",
              "      }\n",
              "      quickchartButtonEl.classList.remove('colab-df-spinner');\n",
              "      quickchartButtonEl.classList.add('colab-df-quickchart-complete');\n",
              "    }\n",
              "    (() => {\n",
              "      let quickchartButtonEl =\n",
              "        document.querySelector('#df-e734989d-86ce-4b02-b8a1-f89227e1b89f button');\n",
              "      quickchartButtonEl.style.display =\n",
              "        google.colab.kernel.accessAllowed ? 'block' : 'none';\n",
              "    })();\n",
              "  </script>\n",
              "</div>\n",
              "\n",
              "    </div>\n",
              "  </div>\n"
            ],
            "application/vnd.google.colaboratory.intrinsic+json": {
              "type": "dataframe",
              "variable_name": "df",
              "summary": "{\n  \"name\": \"df\",\n  \"rows\": 52,\n  \"fields\": [\n    {\n      \"column\": \"Dataset Name\",\n      \"properties\": {\n        \"dtype\": \"category\",\n        \"num_unique_values\": 9,\n        \"samples\": [\n          \"city\",\n          \"transaction\",\n          \"department\"\n        ],\n        \"semantic_type\": \"\",\n        \"description\": \"\"\n      }\n    },\n    {\n      \"column\": \"Columns with Sample Data\",\n      \"properties\": {\n        \"dtype\": \"category\",\n        \"num_unique_values\": 9,\n        \"samples\": [\n          \"data = {\\n    \\\"city_id\\\": [901, 902, 903, 904, 905],\\n    \\\"city_name\\\": [\\\"Greenfield\\\", \\\"Blueville\\\", \\\"Clearwater\\\", \\\"Sunnytown\\\", \\\"Starlight\\\"],\\n    \\\"population\\\": [50000, 75000, 60000, 45000, 30000],\\n    \\\"annual_rainfall_mm\\\": [1200, 800, 1400, 600, 900],\\n    \\\"green_space_sq_km\\\": [50, 40, 60, 30, 20],\\n    \\\"average_temperature_celsius\\\": [18, 15, 20, 22, 17],\\n    \\\"recycling_rate_percent\\\": [58, 65, 70, 55, 60]\\n}\",\n          \"data = {\\n    \\\"TransactionDate\\\": [\\\"2023-01-15\\\", \\\"2023-02-20\\\", \\\"2023-03-05\\\", \\\"2023-04-22\\\", \\\"2023-05-11\\\"],\\n    \\\"OrderID\\\": [\\\"O123\\\", \\\"O124\\\", \\\"O125\\\", \\\"O126\\\", \\\"O127\\\"],\\n    \\\"BuyerName\\\": [\\\"Emily\\\", \\\"Fiona\\\", \\\"George\\\", \\\"Henry\\\", \\\"Isla\\\"],\\n    \\\"ProductSKU\\\": [\\\"SK101\\\", \\\"SK102\\\", \\\"SK103\\\", \\\"SK104\\\", \\\"SK105\\\"],\\n    \\\"ProductName\\\": [\\\"Laptop\\\", \\\"Smartphone\\\", \\\"Smartwatch\\\", \\\"Tablet\\\", \\\"Camera\\\"],\\n    \\\"ListPrice\\\": [1000, 800, 200, 300, 500],\\n    \\\"UnitsSold\\\": [1, 2, 1, 3, 1],\\n    \\\"GrossRevenue\\\": [1000, 1600, 200, 900, 500],\\n    \\\"SalesTax\\\": [100, 160, 20, 90, 50],\\n    \\\"PaymentMode\\\": [\\\"Credit Card\\\", \\\"Debit Card\\\", \\\"Cash\\\", \\\"Bank Transfer\\\", \\\"PayPal\\\"],\\n    \\\"ShippingDate\\\": [\\\"2023-01-17\\\", \\\"2023-02-22\\\", \\\"2023-03-07\\\", \\\"2023-04-24\\\", \\\"2023-05-13\\\"],\\n    \\\"DeliveryStatus\\\": [\\\"Delivered\\\", \\\"Pending\\\", \\\"Delivered\\\", \\\"Cancelled\\\", \\\"Delivered\\\"],\\n    \\\"NetRevenueAfterTax\\\": [900, 1440, 180, 810, 450]\\n}\",\n          \"data = {\\n    \\\"employee_id\\\": [101, 102, 103, 104, 105],\\n    \\\"name\\\": [\\\"Alice\\\", \\\"Bob\\\", \\\"Clara\\\", \\\"David\\\", \\\"Emma\\\"],\\n    \\\"department\\\": [\\\"IT\\\", \\\"HR\\\", \\\"Marketing\\\", \\\"Finance\\\", \\\"Sales\\\"],\\n    \\\"years_in_company\\\": [5, 3, 2, 8, 1],\\n    \\\"last_performance_review\\\": [\\\"04/15/2023\\\", \\\"06/20/2023\\\", \\\"05/30/2023\\\", \\\"03/10/2023\\\", \\\"07/22/2023\\\"],\\n    \\\"salary\\\": [70000, 45000, 50000, 85000, 40000],\\n    \\\"work_hours_per_week\\\": [40, 35, 45, 50, 30],\\n    \\\"promotion_eligibility\\\": [\\\"Yes\\\", \\\"No\\\", \\\"Yes\\\", \\\"No\\\", \\\"Yes\\\"]\\n}\"\n        ],\n        \"semantic_type\": \"\",\n        \"description\": \"\"\n      }\n    },\n    {\n      \"column\": \"Question\",\n      \"properties\": {\n        \"dtype\": \"string\",\n        \"num_unique_values\": 52,\n        \"samples\": [\n          \"How many unique customers are there?\",\n          \"Calculate the net profit for each branch and identify the top 2 branches with the highest net profit?\",\n          \"What is the average salary of employees working over 40 hours weekly who are not up for promotion, Additionally, list the names of these employees?\"\n        ],\n        \"semantic_type\": \"\",\n        \"description\": \"\"\n      }\n    },\n    {\n      \"column\": \"Expected Code\",\n      \"properties\": {\n        \"dtype\": \"string\",\n        \"num_unique_values\": 52,\n        \"samples\": [\n          \"```\\ndef process(df):\\n    # Count the unique customer codes\\n    unique_customers = df['customer_code'].nunique()\\n\\n    # Format the result into a string message\\n    message = f\\\"There are {unique_customers} unique customers.\\\"\\n\\n    return message\\n```\",\n          \"```\\ndef process(df):\\n    # Calculate net profit for each branch\\n    df['net_profit'] = df['revenue'] - df['expenses'] + df['investment_gain_loss']\\n\\n    # Sort the DataFrame by net profit in descending order\\n    sorted_df = df.sort_values(by='net_profit', ascending=False)\\n\\n    # Select the top 2 branches with the highest net profit\\n    top_branches = sorted_df.head(2)\\n\\n    return top_branches[['branch_id', 'branch_name', 'net_profit']]\\n```\",\n          \"```\\ndef process(df):\\n    # Filter for employees who work more than 40 hours per week and are not eligible for promotion\\n    target_employees = df[(df['work_hours_per_week'] > 40) & (df['promotion_eligibility'] == 'No')]\\n\\n    # If no employees meet the criteria, return an appropriate DataFrame\\n    if target_employees.empty:\\n        return pd.DataFrame({\\\"Message\\\": [\\\"No employees meet the specified criteria.\\\"]})\\n\\n    # Calculate the average salary of these employees\\n    average_salary = target_employees['salary'].mean()\\n\\n    # Create a DataFrame for the results\\n    results = pd.DataFrame({\\n        \\\"Average Salary\\\": [average_salary],\\n        \\\"Employee Names\\\": [target_employees['name'].tolist()]\\n    })\\n\\n    return results\\n```\"\n        ],\n        \"semantic_type\": \"\",\n        \"description\": \"\"\n      }\n    }\n  ]\n}"
            }
          },
          "metadata": {},
          "execution_count": 10
        }
      ]
    },
    {
      "cell_type": "code",
      "source": [
        "dataset = Dataset.from_pandas(df)\n",
        "dataset"
      ],
      "metadata": {
        "colab": {
          "base_uri": "https://localhost:8080/"
        },
        "id": "OMf34S-vhUDT",
        "outputId": "501c1538-c145-4e1e-a958-77681736a83d"
      },
      "execution_count": 11,
      "outputs": [
        {
          "output_type": "execute_result",
          "data": {
            "text/plain": [
              "Dataset({\n",
              "    features: ['Dataset Name', 'Columns with Sample Data', 'Question', 'Expected Code'],\n",
              "    num_rows: 52\n",
              "})"
            ]
          },
          "metadata": {},
          "execution_count": 11
        }
      ]
    },
    {
      "cell_type": "code",
      "source": [
        "def apply_prompt_template(examples):\n",
        "  instruction = examples['Question']\n",
        "  context = examples[\"Columns with Sample Data\"]\n",
        "  response = examples['Expected Code']\n",
        "\n",
        "  full_prompt = f\"\"\"Below is an instruction that describes a task. Write a Python function using Pandas to accomplish the task described below.\n",
        "\n",
        "### Instruction:\n",
        "{instruction}\n",
        "\n",
        "header columns with sample data:\n",
        "{context}\n",
        "\n",
        "### Response:\n",
        "{response}\n",
        "\n",
        "### End\n",
        "\"\"\"\n",
        "  return { \"text\": full_prompt }\n",
        "\n",
        "dataset = dataset.map(apply_prompt_template)\n",
        "print(dataset[\"text\"][0])"
      ],
      "metadata": {
        "id": "FFczl85TuKXm",
        "colab": {
          "base_uri": "https://localhost:8080/",
          "height": 989,
          "referenced_widgets": [
            "dc59c9c6bb9e4a6993b4e3e43601411b",
            "55b4db2fbb234f749fe61226bb5fab17",
            "6606d1a245ac4d1186e0b5c4f91f2e48",
            "1722285b7b58401085d2228602de8abb",
            "c62bb02fc24d49bc86f235bf8bf76901",
            "ec2395508d4f4fe1bd852c93a5c4d8e3",
            "8692ee9217b04b2289a3ac0ae1c5f535",
            "9012b5c9a5444e04ad60dd04421c8ae5",
            "8cc1370355724f91aae5095878d04ed4",
            "dca33568d85d48a2874f93ce7dae781a",
            "ab535a8a209541c78b44781b4a516b08"
          ]
        },
        "outputId": "589b768c-1f32-439c-8c5d-3098b7ec32f4"
      },
      "execution_count": 12,
      "outputs": [
        {
          "output_type": "display_data",
          "data": {
            "text/plain": [
              "Map:   0%|          | 0/52 [00:00<?, ? examples/s]"
            ],
            "application/vnd.jupyter.widget-view+json": {
              "version_major": 2,
              "version_minor": 0,
              "model_id": "dc59c9c6bb9e4a6993b4e3e43601411b"
            }
          },
          "metadata": {}
        },
        {
          "output_type": "stream",
          "name": "stdout",
          "text": [
            "Below is an instruction that describes a task. Write a Python function using Pandas to accomplish the task described below.\n",
            "\n",
            "### Instruction:\n",
            "What was customer C001 total sales figure for the past six months?\n",
            "\n",
            "header columns with sample data:\n",
            "data = {\n",
            "    \"invoice_date\": [\"2023-09-01\", \"2023-09-02\", \"2023-09-03\", \"2023-09-04\", \"2023-09-05\"],\n",
            "    \"customer_code\": [\"C001\", \"C005\", \"C001\", \"C003\", \"C004\"],\n",
            "    \"customer_name\": [\"Alice\", \"Bob\", \"Alice\", \"Charlie\", \"David\"],\n",
            "    \"gender\": [\"Male\", \"Female\", \"Male\", \"Female\", \"Male\"],\n",
            "    \"item_code\": [\"I001\", \"I002\", \"I003\", \"I004\", \"I005\"],\n",
            "    \"item_name\": [\"Widget A\", \"Widget B\", \"Widget C\", \"Widget D\", \"Widget E\"],\n",
            "    \"unit_price\": [10, 20, 30, 40, 50],\n",
            "    \"quantity\": [1, 2, 3, 1, 5],\n",
            "    \"total_amount\": [10, 40, 90, 40, 250],\n",
            "    \"tax\": [1, 4, 9, 4, 25],\n",
            "    \"currency\": [\"USD\", \"USD\", \"USD\", \"USD\", \"USD\"],\n",
            "    \"discount\": [0, 0, 0.05, 0, 0.1],\n",
            "    \"total_discount_after\": [10, 40, 85.5, 40, 225]\n",
            "}\n",
            "\n",
            "### Response:\n",
            "```\n",
            "def process(df):\n",
            "    import datetime\n",
            "\n",
            "    # Preferred customer code for processing\n",
            "    customer_code = 'C001'\n",
            "\n",
            "    # Get the current date\n",
            "    today = datetime.date.today()\n",
            "\n",
            "    # Calculate the start date for 6 months ago\n",
            "    start_date_six_months_ago = today - datetime.timedelta(days=6*30)  # Assuming an average of 30 days per month\n",
            "\n",
            "    # Filter data for the preferred customer code and the date range for the last 6 months\n",
            "    customer_sales = df[(df['customer_code'] == customer_code) &\n",
            "                        (df['invoice_date'] >= start_date_six_months_ago.strftime('%Y-%m-%d')) &\n",
            "                        (df['invoice_date'] <= today.strftime('%Y-%m-%d'))]\n",
            "\n",
            "    # Check if the customer is not in the list\n",
            "    if customer_sales.empty:\n",
            "        return f\"Customer {customer_code} was not found in the sales data for the last 6 months.\"\n",
            "\n",
            "    # Sum up the total_amount for the filtered data\n",
            "    total_sales_six_months = customer_sales['total_amount'].sum()\n",
            "\n",
            "    return f\"Customer {customer_code} made a total of ${total_sales_six_months} in sales during the last 6 months.\"\n",
            "```\n",
            "\n",
            "### End\n",
            "\n"
          ]
        }
      ]
    },
    {
      "cell_type": "markdown",
      "source": [
        "# Train"
      ],
      "metadata": {
        "id": "EaqWPLs0e8sh"
      }
    },
    {
      "cell_type": "code",
      "source": [
        "from peft import LoraConfig, get_peft_model\n",
        "\n",
        "lora_alpha = 16\n",
        "lora_dropout = 0.1\n",
        "lora_r = 64\n",
        "\n",
        "peft_config = LoraConfig(\n",
        "    lora_alpha=lora_alpha,\n",
        "    lora_dropout=lora_dropout,\n",
        "    r=lora_r,\n",
        "    bias=\"none\",\n",
        "    task_type=\"CAUSAL_LM\",\n",
        "    target_modules=['q_proj', 'o_proj', 'gate_proj', 'up_proj', 'down_proj', 'k_proj', 'v_proj'] # Choose all linear layers from the model\n",
        ")\n",
        "\n",
        "model = get_peft_model(model, peft_config)"
      ],
      "metadata": {
        "id": "gywjJzNguNYa"
      },
      "execution_count": 13,
      "outputs": []
    },
    {
      "cell_type": "code",
      "source": [
        "import transformers\n",
        "from trl import SFTTrainer\n",
        "\n",
        "trainer = SFTTrainer(\n",
        "    model=model,\n",
        "    train_dataset=dataset,\n",
        "    dataset_text_field=\"text\",\n",
        "    peft_config=peft_config,\n",
        "    max_seq_length=1024,\n",
        "    args=transformers.TrainingArguments(\n",
        "        per_device_train_batch_size=1,\n",
        "        gradient_accumulation_steps=4,\n",
        "        max_steps=50,\n",
        "        learning_rate=2e-4,\n",
        "        logging_steps=1,\n",
        "        output_dir=\"outputs\",\n",
        "        optim=\"paged_adamw_8bit\",\n",
        "        save_strategy=\"epoch\",\n",
        "    ),\n",
        "    data_collator=transformers.DataCollatorForLanguageModeling(tokenizer, mlm=False),\n",
        ")\n",
        "\n",
        "trainer.train()"
      ],
      "metadata": {
        "colab": {
          "base_uri": "https://localhost:8080/",
          "height": 1000,
          "referenced_widgets": [
            "33ab8deaf9d844eaa0b67e8379869745",
            "0defaad8bd4a48fe9b2f0a632207f879",
            "dbed4bb811414a4eb5985cfddd2a0acb",
            "c607207eb41a4cbabacad0da65012293",
            "4b08a6d3709c4cdc958d3992ca174855",
            "f7e57a118f324b99aa40d29409e7c6d5",
            "a058d404ac114497ae5c1027b88bb6b1",
            "e6971fc57e00438fba35d48bcfcf35ee",
            "5a645325a06440158655e78136c26d8e",
            "1029ebe51f3c4122894d0aa04859447f",
            "148d64f8928545168efd496c797f5003"
          ]
        },
        "id": "d7-enHphPcOH",
        "outputId": "64eb8a3a-3abf-4aeb-cc10-9f851cb1cb3b"
      },
      "execution_count": 14,
      "outputs": [
        {
          "output_type": "stream",
          "name": "stderr",
          "text": [
            "/usr/local/lib/python3.10/dist-packages/huggingface_hub/utils/_deprecation.py:100: FutureWarning: Deprecated argument(s) used in '__init__': dataset_text_field, max_seq_length. Will not be supported from version '1.0.0'.\n",
            "\n",
            "Deprecated positional argument(s) used in SFTTrainer, please use the SFTConfig to set these arguments instead.\n",
            "  warnings.warn(message, FutureWarning)\n",
            "/usr/local/lib/python3.10/dist-packages/trl/trainer/sft_trainer.py:280: UserWarning: You passed a `max_seq_length` argument to the SFTTrainer, the value you passed will override the one in the `SFTConfig`.\n",
            "  warnings.warn(\n",
            "/usr/local/lib/python3.10/dist-packages/trl/trainer/sft_trainer.py:318: UserWarning: You passed a `dataset_text_field` argument to the SFTTrainer, the value you passed will override the one in the `SFTConfig`.\n",
            "  warnings.warn(\n"
          ]
        },
        {
          "output_type": "display_data",
          "data": {
            "text/plain": [
              "Map:   0%|          | 0/52 [00:00<?, ? examples/s]"
            ],
            "application/vnd.jupyter.widget-view+json": {
              "version_major": 2,
              "version_minor": 0,
              "model_id": "33ab8deaf9d844eaa0b67e8379869745"
            }
          },
          "metadata": {}
        },
        {
          "output_type": "stream",
          "name": "stderr",
          "text": [
            "max_steps is given, it will override any value given in num_train_epochs\n"
          ]
        },
        {
          "output_type": "display_data",
          "data": {
            "text/plain": [
              "<IPython.core.display.HTML object>"
            ],
            "text/html": [
              "\n",
              "    <div>\n",
              "      \n",
              "      <progress value='50' max='50' style='width:300px; height:20px; vertical-align: middle;'></progress>\n",
              "      [50/50 01:10, Epoch 3/4]\n",
              "    </div>\n",
              "    <table border=\"1\" class=\"dataframe\">\n",
              "  <thead>\n",
              " <tr style=\"text-align: left;\">\n",
              "      <th>Step</th>\n",
              "      <th>Training Loss</th>\n",
              "    </tr>\n",
              "  </thead>\n",
              "  <tbody>\n",
              "    <tr>\n",
              "      <td>1</td>\n",
              "      <td>0.900900</td>\n",
              "    </tr>\n",
              "    <tr>\n",
              "      <td>2</td>\n",
              "      <td>0.917500</td>\n",
              "    </tr>\n",
              "    <tr>\n",
              "      <td>3</td>\n",
              "      <td>1.005800</td>\n",
              "    </tr>\n",
              "    <tr>\n",
              "      <td>4</td>\n",
              "      <td>0.880200</td>\n",
              "    </tr>\n",
              "    <tr>\n",
              "      <td>5</td>\n",
              "      <td>0.694500</td>\n",
              "    </tr>\n",
              "    <tr>\n",
              "      <td>6</td>\n",
              "      <td>0.815100</td>\n",
              "    </tr>\n",
              "    <tr>\n",
              "      <td>7</td>\n",
              "      <td>0.853400</td>\n",
              "    </tr>\n",
              "    <tr>\n",
              "      <td>8</td>\n",
              "      <td>0.613900</td>\n",
              "    </tr>\n",
              "    <tr>\n",
              "      <td>9</td>\n",
              "      <td>0.553500</td>\n",
              "    </tr>\n",
              "    <tr>\n",
              "      <td>10</td>\n",
              "      <td>0.708900</td>\n",
              "    </tr>\n",
              "    <tr>\n",
              "      <td>11</td>\n",
              "      <td>0.536200</td>\n",
              "    </tr>\n",
              "    <tr>\n",
              "      <td>12</td>\n",
              "      <td>0.447500</td>\n",
              "    </tr>\n",
              "    <tr>\n",
              "      <td>13</td>\n",
              "      <td>0.401900</td>\n",
              "    </tr>\n",
              "    <tr>\n",
              "      <td>14</td>\n",
              "      <td>0.474100</td>\n",
              "    </tr>\n",
              "    <tr>\n",
              "      <td>15</td>\n",
              "      <td>0.515900</td>\n",
              "    </tr>\n",
              "    <tr>\n",
              "      <td>16</td>\n",
              "      <td>0.574100</td>\n",
              "    </tr>\n",
              "    <tr>\n",
              "      <td>17</td>\n",
              "      <td>0.461300</td>\n",
              "    </tr>\n",
              "    <tr>\n",
              "      <td>18</td>\n",
              "      <td>0.361700</td>\n",
              "    </tr>\n",
              "    <tr>\n",
              "      <td>19</td>\n",
              "      <td>0.494900</td>\n",
              "    </tr>\n",
              "    <tr>\n",
              "      <td>20</td>\n",
              "      <td>0.366300</td>\n",
              "    </tr>\n",
              "    <tr>\n",
              "      <td>21</td>\n",
              "      <td>0.360200</td>\n",
              "    </tr>\n",
              "    <tr>\n",
              "      <td>22</td>\n",
              "      <td>0.351000</td>\n",
              "    </tr>\n",
              "    <tr>\n",
              "      <td>23</td>\n",
              "      <td>0.244200</td>\n",
              "    </tr>\n",
              "    <tr>\n",
              "      <td>24</td>\n",
              "      <td>0.313500</td>\n",
              "    </tr>\n",
              "    <tr>\n",
              "      <td>25</td>\n",
              "      <td>0.388500</td>\n",
              "    </tr>\n",
              "    <tr>\n",
              "      <td>26</td>\n",
              "      <td>0.294100</td>\n",
              "    </tr>\n",
              "    <tr>\n",
              "      <td>27</td>\n",
              "      <td>0.325400</td>\n",
              "    </tr>\n",
              "    <tr>\n",
              "      <td>28</td>\n",
              "      <td>0.381800</td>\n",
              "    </tr>\n",
              "    <tr>\n",
              "      <td>29</td>\n",
              "      <td>0.216200</td>\n",
              "    </tr>\n",
              "    <tr>\n",
              "      <td>30</td>\n",
              "      <td>0.267900</td>\n",
              "    </tr>\n",
              "    <tr>\n",
              "      <td>31</td>\n",
              "      <td>0.560900</td>\n",
              "    </tr>\n",
              "    <tr>\n",
              "      <td>32</td>\n",
              "      <td>0.267000</td>\n",
              "    </tr>\n",
              "    <tr>\n",
              "      <td>33</td>\n",
              "      <td>0.363500</td>\n",
              "    </tr>\n",
              "    <tr>\n",
              "      <td>34</td>\n",
              "      <td>0.259300</td>\n",
              "    </tr>\n",
              "    <tr>\n",
              "      <td>35</td>\n",
              "      <td>0.284000</td>\n",
              "    </tr>\n",
              "    <tr>\n",
              "      <td>36</td>\n",
              "      <td>0.255700</td>\n",
              "    </tr>\n",
              "    <tr>\n",
              "      <td>37</td>\n",
              "      <td>0.320700</td>\n",
              "    </tr>\n",
              "    <tr>\n",
              "      <td>38</td>\n",
              "      <td>0.245600</td>\n",
              "    </tr>\n",
              "    <tr>\n",
              "      <td>39</td>\n",
              "      <td>0.195300</td>\n",
              "    </tr>\n",
              "    <tr>\n",
              "      <td>40</td>\n",
              "      <td>0.330400</td>\n",
              "    </tr>\n",
              "    <tr>\n",
              "      <td>41</td>\n",
              "      <td>0.153900</td>\n",
              "    </tr>\n",
              "    <tr>\n",
              "      <td>42</td>\n",
              "      <td>0.209300</td>\n",
              "    </tr>\n",
              "    <tr>\n",
              "      <td>43</td>\n",
              "      <td>0.251000</td>\n",
              "    </tr>\n",
              "    <tr>\n",
              "      <td>44</td>\n",
              "      <td>0.409600</td>\n",
              "    </tr>\n",
              "    <tr>\n",
              "      <td>45</td>\n",
              "      <td>0.212000</td>\n",
              "    </tr>\n",
              "    <tr>\n",
              "      <td>46</td>\n",
              "      <td>0.410900</td>\n",
              "    </tr>\n",
              "    <tr>\n",
              "      <td>47</td>\n",
              "      <td>0.165400</td>\n",
              "    </tr>\n",
              "    <tr>\n",
              "      <td>48</td>\n",
              "      <td>0.248200</td>\n",
              "    </tr>\n",
              "    <tr>\n",
              "      <td>49</td>\n",
              "      <td>0.205200</td>\n",
              "    </tr>\n",
              "    <tr>\n",
              "      <td>50</td>\n",
              "      <td>0.196500</td>\n",
              "    </tr>\n",
              "  </tbody>\n",
              "</table><p>"
            ]
          },
          "metadata": {}
        },
        {
          "output_type": "execute_result",
          "data": {
            "text/plain": [
              "TrainOutput(global_step=50, training_loss=0.4252970752120018, metrics={'train_runtime': 72.0811, 'train_samples_per_second': 2.775, 'train_steps_per_second': 0.694, 'total_flos': 904303187742720.0, 'train_loss': 0.4252970752120018, 'epoch': 3.8461538461538463})"
            ]
          },
          "metadata": {},
          "execution_count": 14
        }
      ]
    },
    {
      "cell_type": "code",
      "source": [
        "from transformers import pipeline\n",
        "\n",
        "pipe = pipeline(task=\"text-generation\", model=model, tokenizer=tokenizer)"
      ],
      "metadata": {
        "id": "UecKo0lkuZPN",
        "colab": {
          "base_uri": "https://localhost:8080/"
        },
        "outputId": "8dcd1fc8-4ea0-4a88-e188-7022a9d3f1f6"
      },
      "execution_count": 15,
      "outputs": [
        {
          "output_type": "stream",
          "name": "stderr",
          "text": [
            "The model 'PeftModelForCausalLM' is not supported for text-generation. Supported models are ['BartForCausalLM', 'BertLMHeadModel', 'BertGenerationDecoder', 'BigBirdForCausalLM', 'BigBirdPegasusForCausalLM', 'BioGptForCausalLM', 'BlenderbotForCausalLM', 'BlenderbotSmallForCausalLM', 'BloomForCausalLM', 'CamembertForCausalLM', 'LlamaForCausalLM', 'CodeGenForCausalLM', 'CohereForCausalLM', 'CpmAntForCausalLM', 'CTRLLMHeadModel', 'Data2VecTextForCausalLM', 'DbrxForCausalLM', 'ElectraForCausalLM', 'ErnieForCausalLM', 'FalconForCausalLM', 'FuyuForCausalLM', 'GemmaForCausalLM', 'Gemma2ForCausalLM', 'GitForCausalLM', 'GPT2LMHeadModel', 'GPT2LMHeadModel', 'GPTBigCodeForCausalLM', 'GPTNeoForCausalLM', 'GPTNeoXForCausalLM', 'GPTNeoXJapaneseForCausalLM', 'GPTJForCausalLM', 'JambaForCausalLM', 'JetMoeForCausalLM', 'LlamaForCausalLM', 'MambaForCausalLM', 'Mamba2ForCausalLM', 'MarianForCausalLM', 'MBartForCausalLM', 'MegaForCausalLM', 'MegatronBertForCausalLM', 'MistralForCausalLM', 'MixtralForCausalLM', 'MptForCausalLM', 'MusicgenForCausalLM', 'MusicgenMelodyForCausalLM', 'MvpForCausalLM', 'NemotronForCausalLM', 'OlmoForCausalLM', 'OpenLlamaForCausalLM', 'OpenAIGPTLMHeadModel', 'OPTForCausalLM', 'PegasusForCausalLM', 'PersimmonForCausalLM', 'PhiForCausalLM', 'Phi3ForCausalLM', 'PLBartForCausalLM', 'ProphetNetForCausalLM', 'QDQBertLMHeadModel', 'Qwen2ForCausalLM', 'Qwen2MoeForCausalLM', 'RecurrentGemmaForCausalLM', 'ReformerModelWithLMHead', 'RemBertForCausalLM', 'RobertaForCausalLM', 'RobertaPreLayerNormForCausalLM', 'RoCBertForCausalLM', 'RoFormerForCausalLM', 'RwkvForCausalLM', 'Speech2Text2ForCausalLM', 'StableLmForCausalLM', 'Starcoder2ForCausalLM', 'TransfoXLLMHeadModel', 'TrOCRForCausalLM', 'WhisperForCausalLM', 'XGLMForCausalLM', 'XLMWithLMHeadModel', 'XLMProphetNetForCausalLM', 'XLMRobertaForCausalLM', 'XLMRobertaXLForCausalLM', 'XLNetLMHeadModel', 'XmodForCausalLM'].\n"
          ]
        }
      ]
    },
    {
      "cell_type": "markdown",
      "source": [
        "# Test"
      ],
      "metadata": {
        "id": "C7aXPMcmxcN8"
      }
    },
    {
      "cell_type": "code",
      "source": [
        "prompt = \"\"\"\n",
        "Below is an instruction that describes a task. Write a Python function using Pandas to accomplish the task described below.\n",
        "\n",
        "### Instruction:\n",
        "how many unique items are there\n",
        "\n",
        "header columns with sample data:\n",
        "data = {\n",
        "    \"invoice_date\": [\"2023-09-11\", \"2023-09-12\", \"2023-09-13\", \"2023-09-14\", \"2023-09-15\"],\n",
        "    \"customer_code\": [\"C006\", \"C007\", \"C006\", \"C008\", \"C009\"],\n",
        "    \"customer_name\": [\"Frank\", \"Grace\", \"Frank\", \"Hannah\", \"Ian\"],\n",
        "    \"gender\": [\"Male\", \"Female\", \"Male\", \"Female\", \"Male\"],\n",
        "    \"item_code\": [\"I005\", \"I004\", \"I003\", \"I002\", \"I001\"],\n",
        "    \"item_name\": [\"Widget E\", \"Widget D\", \"Widget C\", \"Widget B\", \"Widget A\"],\n",
        "    \"unit_price\": [\"$50\", \"$40\", \"$30\", \"$20\", \"$10\"],\n",
        "    \"quantity\": [2, 3, 1, 4, 5],\n",
        "    \"total_amount\": [100, 120, 30, 80, 50],\n",
        "    \"tax\": [10, 12, 3, 8, 5],\n",
        "    \"currency\": [\"USD\", \"USD\", \"USD\", \"EUR\", \"EUR\"],\n",
        "    \"discount\": [0.05, 0, 0, 0.1, 0.05],\n",
        "    \"total_discount_after\": [95, 120, 30, 72, 47.5]\n",
        "}\n",
        "\n",
        "### Response:\n",
        "\"\"\"\n",
        "\n",
        "\n",
        "result = pipe(prompt, max_length=550)\n",
        "generated_text = result[0]['generated_text']\n",
        "print(generated_text.split(\"### End\")[0])"
      ],
      "metadata": {
        "id": "6XqIBmmtudW9",
        "colab": {
          "base_uri": "https://localhost:8080/"
        },
        "outputId": "44352b1f-c285-4cf6-dba7-dceca78dcf55"
      },
      "execution_count": 16,
      "outputs": [
        {
          "output_type": "stream",
          "name": "stderr",
          "text": [
            "Both `max_new_tokens` (=2048) and `max_length`(=550) seem to have been set. `max_new_tokens` will take precedence. Please refer to the documentation for more information. (https://huggingface.co/docs/transformers/main/en/main_classes/text_generation)\n"
          ]
        },
        {
          "output_type": "stream",
          "name": "stdout",
          "text": [
            "\n",
            "Below is an instruction that describes a task. Write a Python function using Pandas to accomplish the task described below.\n",
            "\n",
            "### Instruction:\n",
            "how many unique items are there\n",
            "\n",
            "header columns with sample data:\n",
            "data = {\n",
            "    \"invoice_date\": [\"2023-09-11\", \"2023-09-12\", \"2023-09-13\", \"2023-09-14\", \"2023-09-15\"],\n",
            "    \"customer_code\": [\"C006\", \"C007\", \"C006\", \"C008\", \"C009\"],\n",
            "    \"customer_name\": [\"Frank\", \"Grace\", \"Frank\", \"Hannah\", \"Ian\"],\n",
            "    \"gender\": [\"Male\", \"Female\", \"Male\", \"Female\", \"Male\"],\n",
            "    \"item_code\": [\"I005\", \"I004\", \"I003\", \"I002\", \"I001\"],\n",
            "    \"item_name\": [\"Widget E\", \"Widget D\", \"Widget C\", \"Widget B\", \"Widget A\"],\n",
            "    \"unit_price\": [\"$50\", \"$40\", \"$30\", \"$20\", \"$10\"],\n",
            "    \"quantity\": [2, 3, 1, 4, 5],\n",
            "    \"total_amount\": [100, 120, 30, 80, 50],\n",
            "    \"tax\": [10, 12, 3, 8, 5],\n",
            "    \"currency\": [\"USD\", \"USD\", \"USD\", \"EUR\", \"EUR\"],\n",
            "    \"discount\": [0.05, 0, 0, 0.1, 0.05],\n",
            "    \"total_discount_after\": [95, 120, 30, 72, 47.5]\n",
            "}\n",
            "\n",
            "### Response:\n",
            "```\n",
            "def process(df):\n",
            "    # Check if the 'item_code' column contains any unique values\n",
            "    unique_items = df['item_code'].nunique()\n",
            "    if unique_items == 1:\n",
            "        return f\"There is only one unique item code: {df['item_code'].unique()[0]}\"\n",
            "    else:\n",
            "        return f\"There are {unique_items} unique item codes in the dataset.\"\n",
            "```\n",
            "\n",
            "\n"
          ]
        }
      ]
    },
    {
      "cell_type": "markdown",
      "source": [
        "# Push fine-tuned model to hub"
      ],
      "metadata": {
        "id": "Anm7EJYcvBre"
      }
    },
    {
      "cell_type": "code",
      "source": [
        "from huggingface_hub import login\n",
        "from google.colab import userdata"
      ],
      "metadata": {
        "id": "h7Jp_nUAu_KD"
      },
      "execution_count": 17,
      "outputs": []
    },
    {
      "cell_type": "code",
      "source": [
        "login(token=userdata.get('niru_hf_write'))"
      ],
      "metadata": {
        "colab": {
          "base_uri": "https://localhost:8080/"
        },
        "id": "KQrudLS-Q97s",
        "outputId": "1b15363a-221d-44c4-e7d7-73517cad0a4c"
      },
      "execution_count": 18,
      "outputs": [
        {
          "output_type": "stream",
          "name": "stdout",
          "text": [
            "The token has not been saved to the git credentials helper. Pass `add_to_git_credential=True` in this function directly or `--add-to-git-credential` if using via `huggingface-cli` if you want to set the git credential as well.\n",
            "Token is valid (permission: write).\n",
            "Your token has been saved to /root/.cache/huggingface/token\n",
            "Login successful\n"
          ]
        }
      ]
    },
    {
      "cell_type": "code",
      "source": [
        "trainer.save_model(\"Qwen2_SFT_Finetune_Pandas_Code\")"
      ],
      "metadata": {
        "id": "chc8OZruvrxK"
      },
      "execution_count": 19,
      "outputs": []
    },
    {
      "cell_type": "code",
      "source": [
        "from peft import AutoPeftModelForCausalLM\n",
        "\n",
        "model = AutoPeftModelForCausalLM.from_pretrained(\n",
        "    \"/content/Qwen2_SFT_Finetune_Pandas_Code\",\n",
        "    low_cpu_mem_usage=True,\n",
        "    torch_dtype=torch.float16\n",
        ")\n",
        "\n",
        "# Merge LoRA and base model\n",
        "merged_model = model.merge_and_unload()"
      ],
      "metadata": {
        "id": "FhHhK2UhvsPR"
      },
      "execution_count": 20,
      "outputs": []
    },
    {
      "cell_type": "code",
      "source": [
        "# push merged model to the hub\n",
        "merged_model.push_to_hub(\"Qwen2_SFT_Finetune_Pandas_Code\",private=True,safe_serialization=True)\n",
        "tokenizer.push_to_hub(\"Qwen2_SFT_Finetune_Pandas_Code\",private=True)"
      ],
      "metadata": {
        "id": "dRJL6YK-v0jY",
        "colab": {
          "base_uri": "https://localhost:8080/",
          "height": 153,
          "referenced_widgets": [
            "903e1c670f43461a91938edb9fde7362",
            "795313f747e54170a275bbc1184ca8e2",
            "d22b79c4f25a43568ff765705998c543",
            "d174fb7569524a3383b9265d8ca2d116",
            "d4f2f97d8381462d96bc995890a6f0a2",
            "f1c0233bab894a63a99980c1a85e5ac4",
            "247dcf4a3c884e489df7324693f688cf",
            "07d8029399184cf1aca408330debe489",
            "764cb3c0259b4da8be77fa44d01666c8",
            "20359d39dc0043cfab760eba16d4d99f",
            "55492b3eaa234c3cbf38db3b3d45b17f",
            "6bceced7c47a4df3b28d4162c69e383e",
            "b1de134170914837b0ce75a00eab5ad9",
            "4ec29327f923435ca72910a76b2de283",
            "5a576017cd2d4dbf9ae300d01f9e2d81",
            "af9093ae28d74192b989d2f5e09cd0d6",
            "90c7c41962084f01baeb7c2bfb095d72",
            "2603c1a5b16d49f99767fa4d93d1c5c6",
            "32e56a2e21184bb7be1be24050d1d8c2",
            "4b79047b17304d9dbca243be2f03fff9",
            "db2c69f5ebfd4b9b800c3c3298f2d640",
            "d24fb6db303c45c5bf77a914daef8753"
          ]
        },
        "outputId": "b4e1be22-5cf0-4629-cdfa-637c5179a899"
      },
      "execution_count": 21,
      "outputs": [
        {
          "output_type": "display_data",
          "data": {
            "text/plain": [
              "model.safetensors:   0%|          | 0.00/3.09G [00:00<?, ?B/s]"
            ],
            "application/vnd.jupyter.widget-view+json": {
              "version_major": 2,
              "version_minor": 0,
              "model_id": "903e1c670f43461a91938edb9fde7362"
            }
          },
          "metadata": {}
        },
        {
          "output_type": "display_data",
          "data": {
            "text/plain": [
              "README.md:   0%|          | 0.00/5.17k [00:00<?, ?B/s]"
            ],
            "application/vnd.jupyter.widget-view+json": {
              "version_major": 2,
              "version_minor": 0,
              "model_id": "6bceced7c47a4df3b28d4162c69e383e"
            }
          },
          "metadata": {}
        },
        {
          "output_type": "execute_result",
          "data": {
            "text/plain": [
              "CommitInfo(commit_url='https://huggingface.co/nirusanan/Qwen2_SFT_Finetune_Pandas_Code/commit/e17d658a8bd23c913a033c71a11a79c37ea871e7', commit_message='Upload tokenizer', commit_description='', oid='e17d658a8bd23c913a033c71a11a79c37ea871e7', pr_url=None, pr_revision=None, pr_num=None)"
            ],
            "application/vnd.google.colaboratory.intrinsic+json": {
              "type": "string"
            }
          },
          "metadata": {},
          "execution_count": 21
        }
      ]
    }
  ]
}
