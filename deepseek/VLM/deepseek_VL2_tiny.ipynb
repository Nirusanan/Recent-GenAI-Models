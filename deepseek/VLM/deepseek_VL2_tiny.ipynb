{
  "nbformat": 4,
  "nbformat_minor": 0,
  "metadata": {
    "colab": {
      "provenance": [],
      "gpuType": "A100"
    },
    "kernelspec": {
      "name": "python3",
      "display_name": "Python 3"
    },
    "language_info": {
      "name": "python"
    },
    "accelerator": "GPU"
  },
  "cells": [
    {
      "cell_type": "markdown",
      "source": [
        "Mixture-of-Experts (MoE) VLM"
      ],
      "metadata": {
        "id": "ThMqBI65ZsP-"
      }
    },
    {
      "cell_type": "markdown",
      "source": [
        "*   DeepSeek-VL2-Tiny: 1.0B  \n",
        "*   DeepSeek-VL2-Small: 2.8B\n",
        "*   DeepSeek-VL2: 4.5B"
      ],
      "metadata": {
        "id": "wKDf3r2y_j1B"
      }
    },
    {
      "cell_type": "code",
      "source": [
        "!git clone https://github.com/deepseek-ai/DeepSeek-VL2"
      ],
      "metadata": {
        "id": "fpJi4BwpeR6_"
      },
      "execution_count": null,
      "outputs": []
    },
    {
      "cell_type": "code",
      "source": [
        "%cd DeepSeek-VL2"
      ],
      "metadata": {
        "colab": {
          "base_uri": "https://localhost:8080/"
        },
        "id": "V98R3AqPAKTo",
        "outputId": "75883e59-e206-4fb8-aca3-b04d6e949ef5"
      },
      "execution_count": 2,
      "outputs": [
        {
          "output_type": "stream",
          "name": "stdout",
          "text": [
            "/content/DeepSeek-VL2\n"
          ]
        }
      ]
    },
    {
      "cell_type": "markdown",
      "source": [
        " -e: install a Python package in editable mode.\n",
        "\n",
        " (.): Packages are installed from **pyproject.toml** file in current directory."
      ],
      "metadata": {
        "id": "CZex5iCdjgYE"
      }
    },
    {
      "cell_type": "markdown",
      "source": [
        "Edit the pyproject.toml file:\n",
        "* add \"xformers\" in dependencies"
      ],
      "metadata": {
        "id": "OmvkgozDtFEt"
      }
    },
    {
      "cell_type": "code",
      "source": [
        "!pip install -e ."
      ],
      "metadata": {
        "id": "9AoO3JDN9t8M"
      },
      "execution_count": null,
      "outputs": []
    },
    {
      "cell_type": "code",
      "source": [
        "!pwd"
      ],
      "metadata": {
        "colab": {
          "base_uri": "https://localhost:8080/"
        },
        "id": "Y_sNawtTCHLS",
        "outputId": "41b1e797-b574-419d-d109-d2ba199ab76b"
      },
      "execution_count": 4,
      "outputs": [
        {
          "output_type": "stream",
          "name": "stdout",
          "text": [
            "/content/DeepSeek-VL2\n"
          ]
        }
      ]
    },
    {
      "cell_type": "code",
      "source": [
        "import torch\n",
        "from transformers import AutoModelForCausalLM\n",
        "from deepseek_vl2.models import DeepseekVLV2Processor, DeepseekVLV2ForCausalLM\n",
        "from deepseek_vl2.utils.io import load_pil_images"
      ],
      "metadata": {
        "colab": {
          "base_uri": "https://localhost:8080/"
        },
        "id": "3DGunnbdCWoB",
        "outputId": "ca1cb7e5-dc18-4998-f529-154a2677b154"
      },
      "execution_count": 5,
      "outputs": [
        {
          "output_type": "stream",
          "name": "stdout",
          "text": [
            "Python version is above 3.10, patching the collections module.\n"
          ]
        }
      ]
    },
    {
      "cell_type": "code",
      "source": [
        "model_path = \"deepseek-ai/deepseek-vl2-tiny\"\n",
        "vl_chat_processor: DeepseekVLV2Processor = DeepseekVLV2Processor.from_pretrained(model_path)\n",
        "tokenizer = vl_chat_processor.tokenizer\n",
        "\n",
        "vl_gpt: DeepseekVLV2ForCausalLM = AutoModelForCausalLM.from_pretrained(model_path, trust_remote_code=True)\n",
        "vl_gpt = vl_gpt.to(torch.bfloat16).cuda().eval()"
      ],
      "metadata": {
        "colab": {
          "base_uri": "https://localhost:8080/",
          "height": 888,
          "referenced_widgets": [
            "e408150039564f17a259bbfa11b89056",
            "f5058523ceda4f11b9f02ce4be62260d",
            "21b7f58b0beb4b60b159fa2caac9a61f",
            "15d5f10260734e578b73fa9b2172908c",
            "18102a99fdbe48279541e5ccc66d50e8",
            "1d628b1c38bc44459bf5a3bce04ab6dc",
            "0fbacfb46c1e4cc6b9ec46d2b83d26c8",
            "8c0ed438397e49b3a77073145fa241a8",
            "def96fd2bbcd402f80a307853ec2b547",
            "b71036bb87d94783bb73a9baaa4d048a",
            "b576847f87594e28b5160db1d85125b1",
            "d03919aa3a15406ab30f185c312190e7",
            "3b9bf1198b814b268bc4009583ac2248",
            "7682abdc4ade464c8aed260e90f4f01e",
            "57f1d6fc6f6a46b292845ce393745fcf",
            "7271018a350c4ee3829180f2399bde4c",
            "761d692af8524f3d896d05c171d62728",
            "abde0b9a6e5a4f509486ff68d20b9450",
            "8ca47341da314a3e9d3bedcb148df3e6",
            "7082db71bc2144478cd96fd2bd5f1000",
            "a6e01e95f0724204a921dc09f54cc121",
            "a1fd26d3b4ea406aa74b1b6478764033",
            "e37cb5d5d10b499d8072b76be4b5f0cc",
            "9faadf1780b747479a56f61fab0c0196",
            "17abd012f3b64d7492c37108fead8b0e",
            "0c62b0f69df94f50b1113f75e6d06040",
            "a681ecfdd3744c46b969e8697a0fb842",
            "3e40eeb0165d48de84b8a6a9e0982394",
            "28f98f9afcaa45c38f28167088752603",
            "7d46d34beb334c8f8c746b570fe39646",
            "367d476be0eb4f999474b9d2e56e5c11",
            "d3f719b0c74b49e1837b33164a94ef6d",
            "e00736526f4849b68ef1a0512f544ecc",
            "56464eb22a5c4f7990fcb108827e7858",
            "c979a44f8f464a6a9827fa8fbe37b5fc",
            "83d32720dd0f4565a68a4b948aeff600",
            "824f3b6c85e7405e9d43c531dd62f0fe",
            "f30fe4420c8a4bb186426628c462267c",
            "8d8e9e8495254f74a747ccb449533761",
            "3a7891784e4e46fd83cf674812674b57",
            "71870799819b4d2e846f222fcbd36078",
            "b5c3a4ad9cb64dddb4859638ab2c84e4",
            "ebac6847c5734786800b40344864acf9",
            "abd761c99de248f0b5a9f0d69631da4f",
            "b54f02a532da421cb797aca3308a6739",
            "44638fb0106141698037a5e7c278f105",
            "fc893326cfd44e17826387291205d9f4",
            "7fa0e5eef38a4dd4baf3ad680893026b",
            "2a85ea5f6d604d8a951d70d49a387823",
            "56f902be1a7849f29c51e63ae9c4c207",
            "4c066f745d034df8ba54bd17c4342944",
            "417dd943b6ba4c20b49cde8062eb00b8",
            "ce3d6219174a480587eecd5579ca22e6",
            "94a18cbdf9884bcd86cd57ec96725226",
            "a2ff77cf98b84898b24ea3ad141706cf",
            "7d812206c7854cf2835c5528eec08810",
            "63b6889df3114df8becc4915f55e61b1",
            "9c3b9be83a804450b66129866977352a",
            "9bfd775909a14f4984055e3067296d4a",
            "857824390af947648503a91d85b5b314",
            "8f2f6e6be6f24490982746bd842c6cd6",
            "67924f8df7e44df581dd85904a83827a",
            "45b8e3b11a7e40fb810981cc022feb31",
            "420c2cbd6503440893f555b900248886",
            "1e673475bd8143099db9c873d6651b57",
            "6f2adbadf6d642f5b6ead60b00596b21",
            "0bf6a173f59647299fac15212a36c2db",
            "6eb2d9a9697d4f7091ca128691adddda",
            "a5a368db7612424dbb3f23504641d1ba",
            "07bf4d5248ed4378a435311772e34c78",
            "effdf579bb5f4441adbcbd32546ef8ee",
            "d87c40f6fee048538706a8f497291318",
            "fda9fd50f2534ac6bf916391a0d071a5",
            "3f7e62cde344483eadc7a908d80fa192",
            "d8925137fb444396a1da3567a94455f2",
            "6965751e359f459e890fcf6a2aaa7669",
            "27fba848287647e7910427237454a716",
            "5391ea3c7a0948dfba39a7b5a9edf3f0",
            "ad9f571be96f4a21a1662ab40c5c8d81",
            "1cfdbb390fee4bf7b434d025b5481fe9",
            "718837865a27439f8386c35281078091",
            "70d5a84d29e4459d9b44d1a7d01e8155",
            "51211c4e33e240279f61557cdf3a5493",
            "b15cbfef6a8245f0a6a3cf56bb613d49",
            "e71845b44d9e4ee6bcd692f32a86dae4",
            "2fab34b5bb054031b8142920c21cfa26",
            "ca4f3cd872a140a3a9e3d9b8ee27d42b",
            "4ea81a416b3142ec9e44b99eeec30227"
          ]
        },
        "id": "tooKStXZfQVY",
        "outputId": "bfcc6d89-aa00-4b93-873b-ae814a89a306"
      },
      "execution_count": 6,
      "outputs": [
        {
          "output_type": "stream",
          "name": "stderr",
          "text": [
            "/usr/local/lib/python3.11/dist-packages/huggingface_hub/file_download.py:795: FutureWarning: `resume_download` is deprecated and will be removed in version 1.0.0. Downloads always resume when possible. If you want to force a new download, use `force_download=True`.\n",
            "  warnings.warn(\n",
            "/usr/local/lib/python3.11/dist-packages/huggingface_hub/utils/_auth.py:94: UserWarning: \n",
            "The secret `HF_TOKEN` does not exist in your Colab secrets.\n",
            "To authenticate with the Hugging Face Hub, create a token in your settings tab (https://huggingface.co/settings/tokens), set it as secret in your Google Colab and restart your session.\n",
            "You will be able to reuse this secret in all of your notebooks.\n",
            "Please note that authentication is recommended but still optional to access public models or datasets.\n",
            "  warnings.warn(\n"
          ]
        },
        {
          "output_type": "display_data",
          "data": {
            "text/plain": [
              "tokenizer_config.json:   0%|          | 0.00/165k [00:00<?, ?B/s]"
            ],
            "application/vnd.jupyter.widget-view+json": {
              "version_major": 2,
              "version_minor": 0,
              "model_id": "e408150039564f17a259bbfa11b89056"
            }
          },
          "metadata": {}
        },
        {
          "output_type": "display_data",
          "data": {
            "text/plain": [
              "tokenizer.json:   0%|          | 0.00/6.27M [00:00<?, ?B/s]"
            ],
            "application/vnd.jupyter.widget-view+json": {
              "version_major": 2,
              "version_minor": 0,
              "model_id": "d03919aa3a15406ab30f185c312190e7"
            }
          },
          "metadata": {}
        },
        {
          "output_type": "display_data",
          "data": {
            "text/plain": [
              "special_tokens_map.json:   0%|          | 0.00/801 [00:00<?, ?B/s]"
            ],
            "application/vnd.jupyter.widget-view+json": {
              "version_major": 2,
              "version_minor": 0,
              "model_id": "e37cb5d5d10b499d8072b76be4b5f0cc"
            }
          },
          "metadata": {}
        },
        {
          "output_type": "stream",
          "name": "stderr",
          "text": [
            "Special tokens have been added in the vocabulary, make sure the associated word embeddings are fine-tuned or trained.\n"
          ]
        },
        {
          "output_type": "display_data",
          "data": {
            "text/plain": [
              "processor_config.json:   0%|          | 0.00/1.23k [00:00<?, ?B/s]"
            ],
            "application/vnd.jupyter.widget-view+json": {
              "version_major": 2,
              "version_minor": 0,
              "model_id": "56464eb22a5c4f7990fcb108827e7858"
            }
          },
          "metadata": {}
        },
        {
          "output_type": "stream",
          "name": "stdout",
          "text": [
            "Add pad token = ['<｜▁pad▁｜>'] to the tokenizer\n",
            "<｜▁pad▁｜>:2\n",
            "Add image token = ['<image>'] to the tokenizer\n",
            "<image>:128815\n",
            "Add grounding-related tokens = ['<|ref|>', '<|/ref|>', '<|det|>', '<|/det|>', '<|grounding|>'] to the tokenizer with input_ids\n",
            "<|ref|>:128816\n",
            "<|/ref|>:128817\n",
            "<|det|>:128818\n",
            "<|/det|>:128819\n",
            "<|grounding|>:128820\n",
            "Add chat tokens = ['<|User|>', '<|Assistant|>'] to the tokenizer with input_ids\n",
            "<|User|>:128821\n",
            "<|Assistant|>:128822\n",
            "\n"
          ]
        },
        {
          "output_type": "display_data",
          "data": {
            "text/plain": [
              "config.json:   0%|          | 0.00/2.29k [00:00<?, ?B/s]"
            ],
            "application/vnd.jupyter.widget-view+json": {
              "version_major": 2,
              "version_minor": 0,
              "model_id": "b54f02a532da421cb797aca3308a6739"
            }
          },
          "metadata": {}
        },
        {
          "output_type": "display_data",
          "data": {
            "text/plain": [
              "model.safetensors.index.json:   0%|          | 0.00/247k [00:00<?, ?B/s]"
            ],
            "application/vnd.jupyter.widget-view+json": {
              "version_major": 2,
              "version_minor": 0,
              "model_id": "7d812206c7854cf2835c5528eec08810"
            }
          },
          "metadata": {}
        },
        {
          "output_type": "display_data",
          "data": {
            "text/plain": [
              "Downloading shards:   0%|          | 0/1 [00:00<?, ?it/s]"
            ],
            "application/vnd.jupyter.widget-view+json": {
              "version_major": 2,
              "version_minor": 0,
              "model_id": "0bf6a173f59647299fac15212a36c2db"
            }
          },
          "metadata": {}
        },
        {
          "output_type": "display_data",
          "data": {
            "text/plain": [
              "model-00001-of-000001.safetensors:   0%|          | 0.00/6.74G [00:00<?, ?B/s]"
            ],
            "application/vnd.jupyter.widget-view+json": {
              "version_major": 2,
              "version_minor": 0,
              "model_id": "5391ea3c7a0948dfba39a7b5a9edf3f0"
            }
          },
          "metadata": {}
        }
      ]
    },
    {
      "cell_type": "markdown",
      "source": [
        "#### visual grounding"
      ],
      "metadata": {
        "id": "5tayqB1wf0a5"
      }
    },
    {
      "cell_type": "markdown",
      "source": [
        "**<|ref|> and <|/ref|>** are designed specifically for the **object localization** feature."
      ],
      "metadata": {
        "id": "mHTup6Y4gjMs"
      }
    },
    {
      "cell_type": "code",
      "source": [
        "conversation = [\n",
        "    {\n",
        "        \"role\": \"<|User|>\",\n",
        "        \"content\": \"<image>\\n<|ref|>The giraffe at the back.<|/ref|>.\",\n",
        "        \"images\": [\"./images/visual_grounding_1.jpeg\"],\n",
        "    },\n",
        "    {\"role\": \"<|Assistant|>\", \"content\": \"\"},\n",
        "]"
      ],
      "metadata": {
        "id": "LSkxMBLtgIIY"
      },
      "execution_count": 7,
      "outputs": []
    },
    {
      "cell_type": "code",
      "source": [
        "pil_images = load_pil_images(conversation)\n",
        "prepare_inputs = vl_chat_processor(\n",
        "    conversations=conversation,\n",
        "    images=pil_images,\n",
        "    force_batchify=True,\n",
        "    system_prompt=\"\"\n",
        ").to(vl_gpt.device)\n",
        "\n",
        "# run image encoder to get the image embeddings\n",
        "inputs_embeds = vl_gpt.prepare_inputs_embeds(**prepare_inputs)"
      ],
      "metadata": {
        "id": "oYzxzdpTZ0MJ",
        "colab": {
          "base_uri": "https://localhost:8080/"
        },
        "outputId": "e5d8abc4-caa4-44ff-dcfd-6dcc655a53c2"
      },
      "execution_count": 8,
      "outputs": [
        {
          "output_type": "stream",
          "name": "stderr",
          "text": [
            "You're using a LlamaTokenizerFast tokenizer. Please note that with a fast tokenizer, using the `__call__` method is faster than using a method to encode the text followed by a call to the `pad` method to get a padded encoding.\n"
          ]
        }
      ]
    },
    {
      "cell_type": "code",
      "source": [
        "outputs = vl_gpt.language.generate(\n",
        "    inputs_embeds=inputs_embeds,\n",
        "    attention_mask=prepare_inputs.attention_mask,\n",
        "    pad_token_id=tokenizer.eos_token_id,\n",
        "    bos_token_id=tokenizer.bos_token_id,\n",
        "    eos_token_id=tokenizer.eos_token_id,\n",
        "    max_new_tokens=512,\n",
        "    do_sample=False,\n",
        "    use_cache=True\n",
        ")\n",
        "\n",
        "answer = tokenizer.decode(outputs[0].cpu().tolist(), skip_special_tokens=False)\n",
        "print(f\"{prepare_inputs['sft_format'][0]}\", answer)"
      ],
      "metadata": {
        "id": "Fmvl9imYsH-H",
        "colab": {
          "base_uri": "https://localhost:8080/"
        },
        "outputId": "16fb5faa-31ca-44b0-bcfe-922d6f05d561"
      },
      "execution_count": 10,
      "outputs": [
        {
          "output_type": "stream",
          "name": "stdout",
          "text": [
            "<|User|>: <image>\n",
            "<|ref|>The giraffe at the back.<|/ref|>.\n",
            "\n",
            "<|Assistant|>: <|ref|>The giraffe at the back.<|/ref|><|det|>[[580, 270, 999, 900]]<|/det|><｜end▁of▁sentence｜>\n"
          ]
        }
      ]
    },
    {
      "cell_type": "markdown",
      "source": [
        "#### document/table/chart understanding"
      ],
      "metadata": {
        "id": "O6Yxxac_f_f9"
      }
    },
    {
      "cell_type": "code",
      "source": [
        "conversation = [\n",
        "    {\n",
        "        \"role\": \"<|User|>\",\n",
        "        \"content\": \" <image>\\n This image has one table. What are the columns in this table?\",\n",
        "        \"images\": [\"/content/invoice.webp\"],\n",
        "    },\n",
        "    {\"role\": \"<|Assistant|>\", \"content\": \"\"},\n",
        "]"
      ],
      "metadata": {
        "id": "IY8uGxukgBP6"
      },
      "execution_count": 26,
      "outputs": []
    },
    {
      "cell_type": "code",
      "source": [
        "pil_images = load_pil_images(conversation)\n",
        "prepare_inputs = vl_chat_processor(\n",
        "    conversations=conversation,\n",
        "    images=pil_images,\n",
        "    force_batchify=True,\n",
        "    system_prompt=\"\"\n",
        ").to(vl_gpt.device)\n",
        "\n",
        "# run image encoder to get the image embeddings\n",
        "inputs_embeds = vl_gpt.prepare_inputs_embeds(**prepare_inputs)\n",
        "\n",
        "outputs = vl_gpt.language.generate(\n",
        "    inputs_embeds=inputs_embeds,\n",
        "    attention_mask=prepare_inputs.attention_mask,\n",
        "    pad_token_id=tokenizer.eos_token_id,\n",
        "    bos_token_id=tokenizer.bos_token_id,\n",
        "    eos_token_id=tokenizer.eos_token_id,\n",
        "    max_new_tokens=512,\n",
        "    do_sample=False,\n",
        "    use_cache=True\n",
        ")\n",
        "\n",
        "answer = tokenizer.decode(outputs[0].cpu().tolist(), skip_special_tokens=False)\n",
        "print(f\"{prepare_inputs['sft_format'][0]}\", answer)"
      ],
      "metadata": {
        "colab": {
          "base_uri": "https://localhost:8080/"
        },
        "id": "F-oMxmCWg7gX",
        "outputId": "4c09df19-bb46-49ad-c3d5-5bd73e7e1a8f"
      },
      "execution_count": 27,
      "outputs": [
        {
          "output_type": "stream",
          "name": "stdout",
          "text": [
            "<|User|>: <image>\n",
            " This image has one table. What are the columns in this table?\n",
            "\n",
            "<|Assistant|>: The table has the following columns: No., Description, Qty, Price, Total, Discount, Sub Total.<｜end▁of▁sentence｜>\n"
          ]
        }
      ]
    },
    {
      "cell_type": "markdown",
      "source": [
        "#### OCR"
      ],
      "metadata": {
        "id": "jVHVlupUhr2I"
      }
    },
    {
      "cell_type": "code",
      "source": [
        "from PIL import Image\n",
        "\n",
        "image = Image.open(\"/content/captcha.png\")\n",
        "image"
      ],
      "metadata": {
        "colab": {
          "base_uri": "https://localhost:8080/",
          "height": 67
        },
        "id": "tH5bAAHdmjrq",
        "outputId": "58a0499f-a79b-44b9-f604-d8f8a1d41e55"
      },
      "execution_count": 30,
      "outputs": [
        {
          "output_type": "execute_result",
          "data": {
            "text/plain": [
              "<PIL.PngImagePlugin.PngImageFile image mode=RGBA size=200x50>"
            ],
            "image/png": "[encoded data removed]"
          },
          "metadata": {},
          "execution_count": 30
        }
      ]
    },
    {
      "cell_type": "code",
      "source": [
        "conversation = [\n",
        "    {\n",
        "        \"role\": \"<|User|>\",\n",
        "        \"content\": \" <image>\\n what are the characters mentioned in this image?\",\n",
        "        \"images\": [\"/content/captcha.png\"],\n",
        "    },\n",
        "    {\"role\": \"<|Assistant|>\", \"content\": \"\"},\n",
        "]"
      ],
      "metadata": {
        "id": "5miWpj8qhuCq"
      },
      "execution_count": 28,
      "outputs": []
    },
    {
      "cell_type": "code",
      "source": [
        "pil_images = load_pil_images(conversation)\n",
        "prepare_inputs = vl_chat_processor(\n",
        "    conversations=conversation,\n",
        "    images=pil_images,\n",
        "    force_batchify=True,\n",
        "    system_prompt=\"\"\n",
        ").to(vl_gpt.device)\n",
        "\n",
        "# run image encoder to get the image embeddings\n",
        "inputs_embeds = vl_gpt.prepare_inputs_embeds(**prepare_inputs)\n",
        "\n",
        "outputs = vl_gpt.language.generate(\n",
        "    inputs_embeds=inputs_embeds,\n",
        "    attention_mask=prepare_inputs.attention_mask,\n",
        "    pad_token_id=tokenizer.eos_token_id,\n",
        "    bos_token_id=tokenizer.bos_token_id,\n",
        "    eos_token_id=tokenizer.eos_token_id,\n",
        "    max_new_tokens=512,\n",
        "    do_sample=False,\n",
        "    use_cache=True\n",
        ")\n",
        "\n",
        "answer = tokenizer.decode(outputs[0].cpu().tolist(), skip_special_tokens=False)\n",
        "print(f\"{prepare_inputs['sft_format'][0]}\", answer)"
      ],
      "metadata": {
        "colab": {
          "base_uri": "https://localhost:8080/"
        },
        "id": "2wOTq1BahxpX",
        "outputId": "f427caff-b1bc-4c40-f811-7bb27786a6c1"
      },
      "execution_count": 29,
      "outputs": [
        {
          "output_type": "stream",
          "name": "stdout",
          "text": [
            "<|User|>: <image>\n",
            " what are the characters mentioned in this image?\n",
            "\n",
            "<|Assistant|>: Zenf4<｜end▁of▁sentence｜>\n"
          ]
        }
      ]
    },
    {
      "cell_type": "markdown",
      "source": [
        "#### multiple images/interleaved image-text"
      ],
      "metadata": {
        "id": "sDqSkNMvnsAm"
      }
    },
    {
      "cell_type": "code",
      "source": [
        "conversation = [\n",
        "    {\n",
        "        \"role\": \"<|User|>\",\n",
        "        \"content\": \"This is image_1: <image>\\n\"\n",
        "                   \"This is image_2: <image>\\n Can you tell me what are in the images?\",\n",
        "        \"images\": [\n",
        "            \"/content/image_1.jpg\",\n",
        "            \"/content/image_2.jpg\",\n",
        "        ],\n",
        "    },\n",
        "    {\"role\": \"<|Assistant|>\", \"content\": \"\"}\n",
        "]"
      ],
      "metadata": {
        "id": "ockGJOG1nqon"
      },
      "execution_count": 7,
      "outputs": []
    },
    {
      "cell_type": "code",
      "source": [
        "pil_images = load_pil_images(conversation)\n",
        "prepare_inputs = vl_chat_processor(\n",
        "    conversations=conversation,\n",
        "    images=pil_images,\n",
        "    force_batchify=True,\n",
        "    system_prompt=\"\"\n",
        ").to(vl_gpt.device)\n",
        "\n",
        "# run image encoder to get the image embeddings\n",
        "inputs_embeds = vl_gpt.prepare_inputs_embeds(**prepare_inputs)\n",
        "\n",
        "outputs = vl_gpt.language.generate(\n",
        "    inputs_embeds=inputs_embeds,\n",
        "    attention_mask=prepare_inputs.attention_mask,\n",
        "    pad_token_id=tokenizer.eos_token_id,\n",
        "    bos_token_id=tokenizer.bos_token_id,\n",
        "    eos_token_id=tokenizer.eos_token_id,\n",
        "    max_new_tokens=512,\n",
        "    do_sample=False,\n",
        "    use_cache=True\n",
        ")\n",
        "\n",
        "answer = tokenizer.decode(outputs[0].cpu().tolist(), skip_special_tokens=False)\n",
        "print(f\"{prepare_inputs['sft_format'][0]}\", answer)"
      ],
      "metadata": {
        "colab": {
          "base_uri": "https://localhost:8080/"
        },
        "id": "382vf0twvSpz",
        "outputId": "61a564b9-6620-487b-81a8-2b8c20491dd8"
      },
      "execution_count": 8,
      "outputs": [
        {
          "output_type": "stream",
          "name": "stderr",
          "text": [
            "You're using a LlamaTokenizerFast tokenizer. Please note that with a fast tokenizer, using the `__call__` method is faster than using a method to encode the text followed by a call to the `pad` method to get a padded encoding.\n"
          ]
        },
        {
          "output_type": "stream",
          "name": "stdout",
          "text": [
            "<|User|>: This is image_1: <image>\n",
            "This is image_2: <image>\n",
            " Can you tell me what are in the images?\n",
            "\n",
            "<|Assistant|>: The images depict a rural roadside scene. In the first image, there is a small roadside stall with a blue tarp roof, displaying a variety of fruits, likely coconuts, for sale. There are three people near the stall, with one sitting on a bench and two standing. The second image shows a road with a red auto-rickshaw and a white bus driving on it. The bus has a sign in a non-English script, possibly Sinhala, indicating it might be in Sri Lanka.<｜end▁of▁sentence｜>\n"
          ]
        }
      ]
    }
  ]
}
