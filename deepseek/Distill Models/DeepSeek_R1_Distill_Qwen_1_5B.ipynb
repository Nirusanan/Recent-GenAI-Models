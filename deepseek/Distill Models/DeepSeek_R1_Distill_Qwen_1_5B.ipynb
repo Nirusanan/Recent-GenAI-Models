{
  "nbformat": 4,
  "nbformat_minor": 0,
  "metadata": {
    "colab": {
      "provenance": [],
      "gpuType": "T4"
    },
    "kernelspec": {
      "name": "python3",
      "display_name": "Python 3"
    },
    "language_info": {
      "name": "python"
    },
    "accelerator": "GPU"
  },
  "cells": [
    {
      "cell_type": "code",
      "source": [
        "!pip install -q \"transformers==4.47.1\"  \"accelerate==1.3.0\""
      ],
      "metadata": {
        "colab": {
          "base_uri": "https://localhost:8080/"
        },
        "id": "EEecMJg1k2Y5",
        "outputId": "dec94238-9fd5-4580-f9c8-7eb89b031d08"
      },
      "execution_count": 1,
      "outputs": [
        {
          "output_type": "stream",
          "name": "stdout",
          "text": [
            "\u001b[2K   \u001b[90m━━━━━━━━━━━━━━━━━━━━━━━━━━━━━━━━━━━━━━━━\u001b[0m \u001b[32m336.6/336.6 kB\u001b[0m \u001b[31m6.1 MB/s\u001b[0m eta \u001b[36m0:00:00\u001b[0m\n",
            "\u001b[2K   \u001b[90m━━━━━━━━━━━━━━━━━━━━━━━━━━━━━━━━━━━━━━━━\u001b[0m \u001b[32m363.4/363.4 MB\u001b[0m \u001b[31m3.4 MB/s\u001b[0m eta \u001b[36m0:00:00\u001b[0m\n",
            "\u001b[2K   \u001b[90m━━━━━━━━━━━━━━━━━━━━━━━━━━━━━━━━━━━━━━━━\u001b[0m \u001b[32m13.8/13.8 MB\u001b[0m \u001b[31m74.2 MB/s\u001b[0m eta \u001b[36m0:00:00\u001b[0m\n",
            "\u001b[2K   \u001b[90m━━━━━━━━━━━━━━━━━━━━━━━━━━━━━━━━━━━━━━━━\u001b[0m \u001b[32m24.6/24.6 MB\u001b[0m \u001b[31m51.2 MB/s\u001b[0m eta \u001b[36m0:00:00\u001b[0m\n",
            "\u001b[2K   \u001b[90m━━━━━━━━━━━━━━━━━━━━━━━━━━━━━━━━━━━━━━━━\u001b[0m \u001b[32m883.7/883.7 kB\u001b[0m \u001b[31m43.1 MB/s\u001b[0m eta \u001b[36m0:00:00\u001b[0m\n",
            "\u001b[2K   \u001b[90m━━━━━━━━━━━━━━━━━━━━━━━━━━━━━━━━━━━━━━━━\u001b[0m \u001b[32m664.8/664.8 MB\u001b[0m \u001b[31m2.8 MB/s\u001b[0m eta \u001b[36m0:00:00\u001b[0m\n",
            "\u001b[2K   \u001b[90m━━━━━━━━━━━━━━━━━━━━━━━━━━━━━━━━━━━━━━━━\u001b[0m \u001b[32m211.5/211.5 MB\u001b[0m \u001b[31m6.1 MB/s\u001b[0m eta \u001b[36m0:00:00\u001b[0m\n",
            "\u001b[2K   \u001b[90m━━━━━━━━━━━━━━━━━━━━━━━━━━━━━━━━━━━━━━━━\u001b[0m \u001b[32m56.3/56.3 MB\u001b[0m \u001b[31m11.4 MB/s\u001b[0m eta \u001b[36m0:00:00\u001b[0m\n",
            "\u001b[2K   \u001b[90m━━━━━━━━━━━━━━━━━━━━━━━━━━━━━━━━━━━━━━━━\u001b[0m \u001b[32m127.9/127.9 MB\u001b[0m \u001b[31m7.5 MB/s\u001b[0m eta \u001b[36m0:00:00\u001b[0m\n",
            "\u001b[2K   \u001b[90m━━━━━━━━━━━━━━━━━━━━━━━━━━━━━━━━━━━━━━━━\u001b[0m \u001b[32m207.5/207.5 MB\u001b[0m \u001b[31m5.6 MB/s\u001b[0m eta \u001b[36m0:00:00\u001b[0m\n",
            "\u001b[2K   \u001b[90m━━━━━━━━━━━━━━━━━━━━━━━━━━━━━━━━━━━━━━━━\u001b[0m \u001b[32m21.1/21.1 MB\u001b[0m \u001b[31m28.1 MB/s\u001b[0m eta \u001b[36m0:00:00\u001b[0m\n",
            "\u001b[?25h"
          ]
        }
      ]
    },
    {
      "cell_type": "code",
      "execution_count": 2,
      "metadata": {
        "colab": {
          "base_uri": "https://localhost:8080/",
          "height": 301,
          "referenced_widgets": [
            "cf7c0aa6f196473bb77c5804098cd4fc",
            "d29f337031804da2a0308e4b87fe3f7d",
            "0225a5f6eba34cf5a1f1e4d843f48290",
            "ceca8ef94bbf4da19d8993d21ff914c6",
            "0fb22d4d479a40b9b025dca858b1608d",
            "42cf3d5656ed47d591913a2acce0acb8",
            "909c891279444b86893418c5af04da59",
            "59623f09d50a4921864eca5268a27d16",
            "b7eb8cfff0014286a591224b96b615a3",
            "41fee45958c64e0db2e262ce8d870e5a",
            "1ffc5df8495846a9b31bb18d1f535a1f",
            "425d17972e8f4fa3ac69370966c731cd",
            "6bfd76a874474336a7727dfe0802ff32",
            "49e7235e12e143908b50aabdb9ccdb38",
            "81b13d175aa14794b2371e620d74eab7",
            "6bef5e70b43d4815b2dd192ebbbd15cf",
            "8ffdc22f110941ca8d2dccd71ce42f3d",
            "69ea8b78769f4a38b82eed56a908d9f3",
            "5f3b9af7e7b74f23a34cdc83a6753ee5",
            "b15671f405e34f33a6fa490c84b3a5fe",
            "c56421b1d5d64a6e99a63337cf072f22",
            "4c219bb2dd014d04b84c2048cc4ad9c0",
            "3ba1363d4f8a4a4ca1fab0ea771365c0",
            "1d60a6f671bb400cbeb76c229a2be0d2",
            "cf5976394ca34628915e83fa1d661314",
            "1621717bb2444457a07ad5b548ee69db",
            "598e1e4c037b4b4c97db48f966b61f5d",
            "312d2e4fdbb5429a8d4b9943f82d4561",
            "8351ca7bcbb4481ba600b8f8195ded07",
            "f28b828951b948db85becf927a0da57a",
            "f32492385d5a48a68615d2a2646fc145",
            "0b52558064724b7fb0186c062e0d856c",
            "5a5de043eea1406b9ff628ca91fc54f3",
            "3fa62417c1db41338fd7fa740707d8a7",
            "06f0930a1fd1471f903841be61e9daf2",
            "d6a5d1b158fd44048e0009002e1c7dfd",
            "81a201fd45a74a849835d26dbaaae775",
            "be7a41df58894a7886551d5ce4f2af46",
            "8ae93b981db74cc29b608b017349f19a",
            "816f3a2fea9c425cad7e39ca0e3a4eb8",
            "a0071d8d59f04c698e0d60a4555bdae9",
            "e52def261d3d4cbf9b4d78153ba189fb",
            "04ef220e5eca49e68b65a6eb9a5d56c9",
            "3456716386954e288427614e18199af1",
            "f0ccac78f9194a818cea249cf26a65fa",
            "c6d4e51e84504dbda909e09eb47f3db3",
            "8883533b46cd40658a31cd15d0faee9a",
            "014db96c1be5448cb919c90e4e615947",
            "b791d1b1b60d430485313d48d8afadbc",
            "ff1d865f0e714c1d8cdc11e6c6aa980b",
            "a1780eb1abfb45afb0ce2389cb654fb2",
            "538207eadde44db9a0f24953c94a66da",
            "150f08ad251749b6b645f4433fa9c994",
            "c99d9261e0a94e3e9c1d1235fc91be50",
            "b1a7eb06392844fc99209398321aae2c"
          ]
        },
        "id": "z8x6q8-_kjF6",
        "outputId": "2287308e-c891-46e3-9b6f-5768ee91c555"
      },
      "outputs": [
        {
          "output_type": "stream",
          "name": "stderr",
          "text": [
            "/usr/local/lib/python3.11/dist-packages/huggingface_hub/utils/_auth.py:94: UserWarning: \n",
            "The secret `HF_TOKEN` does not exist in your Colab secrets.\n",
            "To authenticate with the Hugging Face Hub, create a token in your settings tab (https://huggingface.co/settings/tokens), set it as secret in your Google Colab and restart your session.\n",
            "You will be able to reuse this secret in all of your notebooks.\n",
            "Please note that authentication is recommended but still optional to access public models or datasets.\n",
            "  warnings.warn(\n"
          ]
        },
        {
          "output_type": "display_data",
          "data": {
            "text/plain": [
              "config.json:   0%|          | 0.00/679 [00:00<?, ?B/s]"
            ],
            "application/vnd.jupyter.widget-view+json": {
              "version_major": 2,
              "version_minor": 0,
              "model_id": "cf7c0aa6f196473bb77c5804098cd4fc"
            }
          },
          "metadata": {}
        },
        {
          "output_type": "display_data",
          "data": {
            "text/plain": [
              "model.safetensors:   0%|          | 0.00/3.55G [00:00<?, ?B/s]"
            ],
            "application/vnd.jupyter.widget-view+json": {
              "version_major": 2,
              "version_minor": 0,
              "model_id": "425d17972e8f4fa3ac69370966c731cd"
            }
          },
          "metadata": {}
        },
        {
          "output_type": "display_data",
          "data": {
            "text/plain": [
              "generation_config.json:   0%|          | 0.00/181 [00:00<?, ?B/s]"
            ],
            "application/vnd.jupyter.widget-view+json": {
              "version_major": 2,
              "version_minor": 0,
              "model_id": "3ba1363d4f8a4a4ca1fab0ea771365c0"
            }
          },
          "metadata": {}
        },
        {
          "output_type": "display_data",
          "data": {
            "text/plain": [
              "tokenizer_config.json:   0%|          | 0.00/3.06k [00:00<?, ?B/s]"
            ],
            "application/vnd.jupyter.widget-view+json": {
              "version_major": 2,
              "version_minor": 0,
              "model_id": "3fa62417c1db41338fd7fa740707d8a7"
            }
          },
          "metadata": {}
        },
        {
          "output_type": "display_data",
          "data": {
            "text/plain": [
              "tokenizer.json:   0%|          | 0.00/7.03M [00:00<?, ?B/s]"
            ],
            "application/vnd.jupyter.widget-view+json": {
              "version_major": 2,
              "version_minor": 0,
              "model_id": "f0ccac78f9194a818cea249cf26a65fa"
            }
          },
          "metadata": {}
        }
      ],
      "source": [
        "from transformers import AutoModelForCausalLM, AutoTokenizer\n",
        "\n",
        "model_name = \"deepseek-ai/DeepSeek-R1-Distill-Qwen-1.5B\"\n",
        "\n",
        "model = AutoModelForCausalLM.from_pretrained(\n",
        "    model_name,\n",
        "    torch_dtype=\"auto\",\n",
        "    device_map=\"auto\"\n",
        ")\n",
        "tokenizer = AutoTokenizer.from_pretrained(model_name)"
      ]
    },
    {
      "cell_type": "code",
      "source": [
        "prompt = \"\"\"find differention of f(x) = 2x^2+sin(x)/3x^2\n",
        "\"\"\"\n",
        "\n",
        "messages = [\n",
        "    {\"role\": \"system\", \"content\": \"You are a helpful assistant.\"},\n",
        "    {\"role\": \"user\", \"content\": prompt}\n",
        "]\n",
        "text = tokenizer.apply_chat_template(\n",
        "    messages,\n",
        "    tokenize=False,\n",
        "    add_generation_prompt=True\n",
        ")\n",
        "model_inputs = tokenizer([text], return_tensors=\"pt\").to(model.device)\n",
        "\n",
        "generated_ids = model.generate(\n",
        "    **model_inputs,\n",
        "    max_new_tokens=2048\n",
        ")\n",
        "generated_ids = [\n",
        "    output_ids[len(input_ids):] for input_ids, output_ids in zip(model_inputs.input_ids, generated_ids)\n",
        "]\n",
        "\n",
        "response = tokenizer.batch_decode(generated_ids, skip_special_tokens=True)[0]\n",
        "\n",
        "print(response)"
      ],
      "metadata": {
        "colab": {
          "base_uri": "https://localhost:8080/"
        },
        "id": "OHw8DDN4kreq",
        "outputId": "57d1312a-dd59-41bf-d985-c15d66580fb2"
      },
      "execution_count": 3,
      "outputs": [
        {
          "output_type": "stream",
          "name": "stderr",
          "text": [
            "Setting `pad_token_id` to `eos_token_id`:151643 for open-end generation.\n"
          ]
        },
        {
          "output_type": "stream",
          "name": "stdout",
          "text": [
            "<think>\n",
            "Okay, so I need to find the derivative of the function f(x) = (2x² + sin(x))/3x². Hmm, let me think about how to approach this. \n",
            "\n",
            "First, I remember that when dealing with derivatives, especially for rational functions or quotients, the quotient rule is often useful. The quotient rule is (low d high minus high d low) over (low squared), right? So, let me identify the numerator and denominator here.\n",
            "\n",
            "The numerator is 2x² + sin(x), and the denominator is 3x². Wait, actually, both numerator and denominator have a 3 in them. Maybe I can simplify the expression first before applying the quotient rule. Let me try that.\n",
            "\n",
            "If I factor out the 3 from the denominator, it becomes 3x². So, the function can be rewritten as (2x² + sin(x)) divided by 3x². I can split this into two separate terms: (2x²)/(3x²) + (sin(x))/(3x²). That might make taking the derivative easier because each term can be handled individually.\n",
            "\n",
            "Simplifying the first term, (2x²)/(3x²) is just 2/3 because x² cancels out. So, the first part of the derivative is straightforward. Now, the second term is (sin(x))/(3x²). I can factor out the 1/3 to make it easier: (1/3)(sin(x)/x²).\n",
            "\n",
            "Now, I need to find the derivative of each term separately. For the first term, 2/3 is a constant, so its derivative is zero. That's simple.\n",
            "\n",
            "For the second term, I'll need to use the quotient rule. The quotient rule states that if you have a function h(x) = g(x)/f(x), then h'(x) = [g'(x)f(x) - g(x)f'(x)] / [f(x)]².\n",
            "\n",
            "In this case, g(x) is sin(x) and f(x) is x². So, g'(x) is cos(x), and f'(x) is 2x. Plugging these into the quotient rule formula:\n",
            "\n",
            "h'(x) = [cos(x) * x² - sin(x) * 2x] / (x²)² = [x² cos(x) - 2x sin(x)] / x⁴.\n",
            "\n",
            "But remember, this is multiplied by the 1/3 factor from earlier. So, the derivative of the second term is (1/3) * [x² cos(x) - 2x sin(x)] / x⁴.\n",
            "\n",
            "Now, combining both derivatives, since the first term was zero, the derivative of the entire function f(x) is just the derivative of the second term. So, f'(x) = (1/3) * [x² cos(x) - 2x sin(x)] / x⁴.\n",
            "\n",
            "I think that's as simplified as it gets. Maybe I can simplify the expression further by dividing each term in the numerator by x⁴. Let's see:\n",
            "\n",
            "(x² cos(x))/x⁴ = cos(x)/x²\n",
            "\n",
            "and\n",
            "\n",
            "(-2x sin(x))/x⁴ = -2 sin(x)/x³\n",
            "\n",
            "So, putting it all together, f'(x) = (1/3)(cos(x)/x² - 2 sin(x)/x³).\n",
            "\n",
            "Alternatively, I can write it as (1/3)(cos(x)/x² - 2 sin(x)/x³) or factor out 1/x³ to make it look cleaner:\n",
            "\n",
            "f'(x) = (1/3)(cos(x)/x² - 2 sin(x)/x³) = (1/3)(cos(x)/x² - 2 sin(x)/x³).\n",
            "\n",
            "I think that's the final answer. Let me double-check to make sure I didn't make any mistakes in applying the quotient rule or simplifying. It all seems to make sense, so I'm confident in this result.\n",
            "</think>\n",
            "\n",
            "The derivative of the function \\( f(x) = \\frac{2x^2 + \\sin(x)}{3x^2} \\) is found by simplifying the expression and applying the quotient rule where necessary. After simplification and differentiation, the derivative is:\n",
            "\n",
            "\\[\n",
            "f'(x) = \\frac{1}{3} \\left( \\frac{\\cos(x)}{x^2} - \\frac{2 \\sin(x)}{x^3} \\right)\n",
            "\\]\n",
            "\n",
            "This can be further written as:\n",
            "\n",
            "\\[\n",
            "f'(x) = \\frac{\\cos(x)}{3x^2} - \\frac{2 \\sin(x)}{3x^3}\n",
            "\\]\n"
          ]
        }
      ]
    },
    {
      "cell_type": "code",
      "source": [
        "prompt = \"\"\"find differention of f(x) = 2x^2+sin(x)/3x^2\n",
        "\"\"\"\n",
        "\n",
        "messages = [\n",
        "    {\"role\": \"system\", \"content\": \"You are a helpful assistant.\"},\n",
        "    {\"role\": \"user\", \"content\": prompt}\n",
        "]\n",
        "text = tokenizer.apply_chat_template(\n",
        "    messages,\n",
        "    tokenize=False,\n",
        "    add_generation_prompt=True\n",
        ")\n",
        "model_inputs = tokenizer([text], return_tensors=\"pt\").to(model.device)\n",
        "\n",
        "generated_ids = model.generate(\n",
        "    **model_inputs,\n",
        "    max_new_tokens=2048\n",
        ")\n",
        "generated_ids = [\n",
        "    output_ids[len(input_ids):] for input_ids, output_ids in zip(model_inputs.input_ids, generated_ids)\n",
        "]\n",
        "\n",
        "response = tokenizer.batch_decode(generated_ids, skip_special_tokens=True)[0]\n",
        "\n",
        "print(response)"
      ],
      "metadata": {
        "id": "Ot8p7TAZkriK",
        "colab": {
          "base_uri": "https://localhost:8080/"
        },
        "outputId": "34957ff9-25ce-4333-e61a-f5839ef1db40"
      },
      "execution_count": null,
      "outputs": [
        {
          "output_type": "stream",
          "name": "stderr",
          "text": [
            "Setting `pad_token_id` to `eos_token_id`:151643 for open-end generation.\n"
          ]
        },
        {
          "output_type": "stream",
          "name": "stdout",
          "text": [
            "<think>\n",
            "Okay, so I need to find the derivative of the function f(x) = (2x² + sin(x))/3x². Hmm, let's see. First, I should probably simplify the function a bit before trying to take the derivative. Maybe I can split the fraction into two separate terms.\n",
            "\n",
            "So, if I rewrite f(x), it becomes f(x) = (2x²)/(3x²) + (sin(x))/(3x²). Simplifying the first term, 2x² divided by 3x² is just 2/3. So now, the function is f(x) = 2/3 + (sin(x))/(3x²). That seems easier to differentiate.\n",
            "\n",
            "Now, I'll focus on the second term, (sin(x))/(3x²). To differentiate this, I should use the quotient rule or maybe simplify it first. Let's see, dividing by 3x² is the same as multiplying by 1/(3x²), which can be written as (1/3)x^(-2). So, the term becomes (1/3) * sin(x) * x^(-2). Maybe it's easier to use the product rule here.\n",
            "\n",
            "Wait, is the product rule applicable here? I think so because I can consider it as (1/3) times sin(x) times x^(-2). So, using the product rule, which states that the derivative of u*v is u’v + uv’, I can let u = sin(x) and v = x^(-2). \n",
            "\n",
            "First, find u’. The derivative of sin(x) is cos(x). Then, find v’. The derivative of x^(-2) is -2x^(-3). So, applying the product rule: u’v + uv’ becomes cos(x) * x^(-2) + sin(x) * (-2x^(-3)). \n",
            "\n",
            "Putting it all together, the derivative of the second term is (1/3)(cos(x) * x^(-2) - 2sin(x) * x^(-3)). \n",
            "\n",
            "Now, combining the derivatives of both terms, the derivative of f(x) is the derivative of 2/3, which is zero, plus the derivative of the second term. So, f’(x) = 0 + (1/3)(cos(x)/x² - 2sin(x)/x³). \n",
            "\n",
            "To make it a bit cleaner, I can write it as f’(x) = (cos(x))/(3x²) - (2sin(x))/(3x³). I think that's the final answer. Let me double-check by plugging in a simple value, like x = 1. \n",
            "\n",
            "Original function f(1) = (2*1 + sin(1))/3*1 = (2 + sin(1))/3. The derivative at x=1 should be (cos(1))/(3*1²) - (2sin(1))/(3*1³) = cos(1)/3 - 2sin(1)/3. If I compute this numerically, cos(1) is about 0.5403 and sin(1) is about 0.8415. So, 0.5403/3 ≈ 0.1801 and 2*0.8415/3 ≈ 0.561. Subtracting these gives approximately 0.1801 - 0.561 = -0.3809. \n",
            "\n",
            "To check, I can approximate the original function's slope around x=1 using the definition of the derivative. The derivative at x=1 is the limit as h approaches 0 of [f(1+h) - f(1)]/h. Calculating this might be a bit involved, but if my symbolic derivative gives -0.3809, that should match the numerical approximation. \n",
            "\n",
            "Alternatively, I can consider using the chain rule or other differentiation techniques, but I think I've done it correctly by splitting the fraction and applying the product rule. I don't see any mistakes in my steps, so I'm confident in the result.\n",
            "</think>\n",
            "\n",
            "The derivative of the function \\( f(x) = \\frac{2x^2 + \\sin(x)}{3x^2} \\) is calculated as follows:\n",
            "\n",
            "1. Simplify the function:\n",
            "   \\[\n",
            "   f(x) = \\frac{2x^2}{3x^2} + \\frac{\\sin(x)}{3x^2} = \\frac{2}{3} + \\frac{\\sin(x)}{3x^2}\n",
            "   \\]\n",
            "\n",
            "2. Differentiate each term separately:\n",
            "   - The derivative of \\(\\frac{2}{3}\\) is 0.\n",
            "   - For \\(\\frac{\\sin(x)}{3x^2}\\), rewrite it as \\(\\frac{1}{3} \\cdot \\sin(x) \\cdot x^{-2}\\) and apply the product rule:\n",
            "     \\[\n",
            "     \\frac{d}{dx}\\left(\\frac{\\sin(x)}{3x^2}\\right) = \\frac{1}{3} \\left( \\cos(x) \\cdot x^{-2} + \\sin(x) \\cdot (-2x^{-3}) \\right)\n",
            "     \\]\n",
            "     Simplifying:\n",
            "     \\[\n",
            "     \\frac{1}{3} \\left( \\frac{\\cos(x)}{x^2} - \\frac{2\\sin(x)}{x^3} \\right)\n",
            "     \\]\n",
            "\n",
            "3. Combine the derivatives:\n",
            "   \\[\n",
            "   f'(x) = 0 + \\frac{\\cos(x)}{3x^2} - \\frac{2\\sin(x)}{3x^3}\n",
            "   \\]\n",
            "\n",
            "**Final Answer:**\n",
            "\\[\n",
            "f'(x) = \\frac{\\cos(x)}{3x^2} - \\frac{2\\sin(x)}{3x^3}\n",
            "\\]\n"
          ]
        }
      ]
    }
  ]
}
